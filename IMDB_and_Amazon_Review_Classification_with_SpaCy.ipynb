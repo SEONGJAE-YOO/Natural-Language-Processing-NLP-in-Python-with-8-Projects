{
 "cells": [
  {
   "cell_type": "markdown",
   "metadata": {
    "id": "-z5wIxkEUaKx"
   },
   "source": [
    "# 1) Importing the datasets"
   ]
  },
  {
   "cell_type": "code",
   "execution_count": 3,
   "metadata": {
    "id": "BQgQHj_g_Hrc"
   },
   "outputs": [],
   "source": [
    "import numpy as np\n",
    "import pandas as pd\n",
    "import matplotlib.pyplot as plt"
   ]
  },
  {
   "cell_type": "code",
   "execution_count": 4,
   "metadata": {
    "id": "f-H7y2SIwWh3"
   },
   "outputs": [],
   "source": [
    "data_yelp = pd.read_csv('data/yelp_labelled.txt', sep='\\t',header=None)"
   ]
  },
  {
   "cell_type": "markdown",
   "metadata": {},
   "source": [
    "# yelp_labelled.txt 데이터는 아래 링크를 클릭하면 보실 수 있습니다.\n",
    "# 링크 -[https://github.com/SEONGJAE-YOO/Natural-Language-Processing-NLP-in-Python-with-8-Projects/blob/main/data/yelp_labelled.txt](https://github.com/SEONGJAE-YOO/Natural-Language-Processing-NLP-in-Python-with-8-Projects/blob/main/data/yelp_labelled.txt)"
   ]
  },
  {
   "cell_type": "code",
   "execution_count": 6,
   "metadata": {
    "colab": {
     "base_uri": "https://localhost:8080/",
     "height": 206
    },
    "id": "GFYJsYO8wsar",
    "outputId": "4436bc76-7827-4eb4-c8d4-89a812f78e07"
   },
   "outputs": [
    {
     "data": {
      "text/html": [
       "<div>\n",
       "<style scoped>\n",
       "    .dataframe tbody tr th:only-of-type {\n",
       "        vertical-align: middle;\n",
       "    }\n",
       "\n",
       "    .dataframe tbody tr th {\n",
       "        vertical-align: top;\n",
       "    }\n",
       "\n",
       "    .dataframe thead th {\n",
       "        text-align: right;\n",
       "    }\n",
       "</style>\n",
       "<table border=\"1\" class=\"dataframe\">\n",
       "  <thead>\n",
       "    <tr style=\"text-align: right;\">\n",
       "      <th></th>\n",
       "      <th>0</th>\n",
       "      <th>1</th>\n",
       "    </tr>\n",
       "  </thead>\n",
       "  <tbody>\n",
       "    <tr>\n",
       "      <th>0</th>\n",
       "      <td>Wow... Loved this place.</td>\n",
       "      <td>1</td>\n",
       "    </tr>\n",
       "    <tr>\n",
       "      <th>1</th>\n",
       "      <td>Crust is not good.</td>\n",
       "      <td>0</td>\n",
       "    </tr>\n",
       "    <tr>\n",
       "      <th>2</th>\n",
       "      <td>Not tasty and the texture was just nasty.</td>\n",
       "      <td>0</td>\n",
       "    </tr>\n",
       "    <tr>\n",
       "      <th>3</th>\n",
       "      <td>Stopped by during the late May bank holiday of...</td>\n",
       "      <td>1</td>\n",
       "    </tr>\n",
       "    <tr>\n",
       "      <th>4</th>\n",
       "      <td>The selection on the menu was great and so wer...</td>\n",
       "      <td>1</td>\n",
       "    </tr>\n",
       "  </tbody>\n",
       "</table>\n",
       "</div>"
      ],
      "text/plain": [
       "                                                   0  1\n",
       "0                           Wow... Loved this place.  1\n",
       "1                                 Crust is not good.  0\n",
       "2          Not tasty and the texture was just nasty.  0\n",
       "3  Stopped by during the late May bank holiday of...  1\n",
       "4  The selection on the menu was great and so wer...  1"
      ]
     },
     "execution_count": 6,
     "metadata": {},
     "output_type": "execute_result"
    }
   ],
   "source": [
    "data_yelp.head()\n",
    "# review and sentiment\n",
    "# 0-Negative, 1-Positive for positive review"
   ]
  },
  {
   "cell_type": "code",
   "execution_count": 7,
   "metadata": {
    "id": "SSdpjVb9DdgM"
   },
   "outputs": [],
   "source": [
    "# Assign column names\n",
    "columan_name = ['Review', 'Sentiment']\n",
    "data_yelp.columns = columan_name"
   ]
  },
  {
   "cell_type": "code",
   "execution_count": 8,
   "metadata": {
    "colab": {
     "base_uri": "https://localhost:8080/",
     "height": 206
    },
    "id": "TmsN5vrqDVmL",
    "outputId": "cdc90a1c-68b0-47a2-e0c8-42dda453217e"
   },
   "outputs": [
    {
     "data": {
      "text/html": [
       "<div>\n",
       "<style scoped>\n",
       "    .dataframe tbody tr th:only-of-type {\n",
       "        vertical-align: middle;\n",
       "    }\n",
       "\n",
       "    .dataframe tbody tr th {\n",
       "        vertical-align: top;\n",
       "    }\n",
       "\n",
       "    .dataframe thead th {\n",
       "        text-align: right;\n",
       "    }\n",
       "</style>\n",
       "<table border=\"1\" class=\"dataframe\">\n",
       "  <thead>\n",
       "    <tr style=\"text-align: right;\">\n",
       "      <th></th>\n",
       "      <th>Review</th>\n",
       "      <th>Sentiment</th>\n",
       "    </tr>\n",
       "  </thead>\n",
       "  <tbody>\n",
       "    <tr>\n",
       "      <th>0</th>\n",
       "      <td>Wow... Loved this place.</td>\n",
       "      <td>1</td>\n",
       "    </tr>\n",
       "    <tr>\n",
       "      <th>1</th>\n",
       "      <td>Crust is not good.</td>\n",
       "      <td>0</td>\n",
       "    </tr>\n",
       "    <tr>\n",
       "      <th>2</th>\n",
       "      <td>Not tasty and the texture was just nasty.</td>\n",
       "      <td>0</td>\n",
       "    </tr>\n",
       "    <tr>\n",
       "      <th>3</th>\n",
       "      <td>Stopped by during the late May bank holiday of...</td>\n",
       "      <td>1</td>\n",
       "    </tr>\n",
       "    <tr>\n",
       "      <th>4</th>\n",
       "      <td>The selection on the menu was great and so wer...</td>\n",
       "      <td>1</td>\n",
       "    </tr>\n",
       "  </tbody>\n",
       "</table>\n",
       "</div>"
      ],
      "text/plain": [
       "                                              Review  Sentiment\n",
       "0                           Wow... Loved this place.          1\n",
       "1                                 Crust is not good.          0\n",
       "2          Not tasty and the texture was just nasty.          0\n",
       "3  Stopped by during the late May bank holiday of...          1\n",
       "4  The selection on the menu was great and so wer...          1"
      ]
     },
     "execution_count": 8,
     "metadata": {},
     "output_type": "execute_result"
    }
   ],
   "source": [
    "data_yelp.head()"
   ]
  },
  {
   "cell_type": "code",
   "execution_count": 9,
   "metadata": {
    "colab": {
     "base_uri": "https://localhost:8080/",
     "height": 36
    },
    "id": "BOksb-9uDwSm",
    "outputId": "d23d75ba-a48d-41f6-f0fb-9528f4b9aab6"
   },
   "outputs": [
    {
     "data": {
      "text/plain": [
       "(1000, 2)"
      ]
     },
     "execution_count": 9,
     "metadata": {},
     "output_type": "execute_result"
    }
   ],
   "source": [
    "data_yelp.shape\n",
    "# 1000 rows (reviews), 2 columns (Sentiments)"
   ]
  },
  {
   "cell_type": "code",
   "execution_count": 14,
   "metadata": {
    "colab": {
     "base_uri": "https://localhost:8080/",
     "height": 206
    },
    "id": "dcbbYhOuxeuV",
    "outputId": "dc3c1e55-7f55-47ab-d6b9-601b35767fd1"
   },
   "outputs": [
    {
     "data": {
      "text/html": [
       "<div>\n",
       "<style scoped>\n",
       "    .dataframe tbody tr th:only-of-type {\n",
       "        vertical-align: middle;\n",
       "    }\n",
       "\n",
       "    .dataframe tbody tr th {\n",
       "        vertical-align: top;\n",
       "    }\n",
       "\n",
       "    .dataframe thead th {\n",
       "        text-align: right;\n",
       "    }\n",
       "</style>\n",
       "<table border=\"1\" class=\"dataframe\">\n",
       "  <thead>\n",
       "    <tr style=\"text-align: right;\">\n",
       "      <th></th>\n",
       "      <th>0</th>\n",
       "      <th>1</th>\n",
       "    </tr>\n",
       "  </thead>\n",
       "  <tbody>\n",
       "    <tr>\n",
       "      <th>0</th>\n",
       "      <td>So there is no way for me to plug it in here i...</td>\n",
       "      <td>0</td>\n",
       "    </tr>\n",
       "    <tr>\n",
       "      <th>1</th>\n",
       "      <td>Good case, Excellent value.</td>\n",
       "      <td>1</td>\n",
       "    </tr>\n",
       "    <tr>\n",
       "      <th>2</th>\n",
       "      <td>Great for the jawbone.</td>\n",
       "      <td>1</td>\n",
       "    </tr>\n",
       "    <tr>\n",
       "      <th>3</th>\n",
       "      <td>Tied to charger for conversations lasting more...</td>\n",
       "      <td>0</td>\n",
       "    </tr>\n",
       "    <tr>\n",
       "      <th>4</th>\n",
       "      <td>The mic is great.</td>\n",
       "      <td>1</td>\n",
       "    </tr>\n",
       "  </tbody>\n",
       "</table>\n",
       "</div>"
      ],
      "text/plain": [
       "                                                   0  1\n",
       "0  So there is no way for me to plug it in here i...  0\n",
       "1                        Good case, Excellent value.  1\n",
       "2                             Great for the jawbone.  1\n",
       "3  Tied to charger for conversations lasting more...  0\n",
       "4                                  The mic is great.  1"
      ]
     },
     "execution_count": 14,
     "metadata": {},
     "output_type": "execute_result"
    }
   ],
   "source": [
    "data_amazon = pd.read_csv('data/amazon_cells_labelled.txt',sep='\\t',header=None)\n",
    "data_amazon.head()\n",
    "# review and sentiment\n",
    "# 0-Negative, 1-Positive for positive review"
   ]
  },
  {
   "cell_type": "markdown",
   "metadata": {},
   "source": [
    "# amazon_cells_labelled.txt 데이터는 아래 링크를 클릭하면 보실 수 있습니다.\n",
    "# 링크-[https://github.com/SEONGJAE-YOO/Natural-Language-Processing-NLP-in-Python-with-8-Projects/blob/main/data/amazon_cells_labelled.txt](https://github.com/SEONGJAE-YOO/Natural-Language-Processing-NLP-in-Python-with-8-Projects/blob/main/data/amazon_cells_labelled.txt)"
   ]
  },
  {
   "cell_type": "code",
   "execution_count": 15,
   "metadata": {
    "id": "3-kW8ipUIYOO"
   },
   "outputs": [],
   "source": [
    "data_amazon.columns = columan_name"
   ]
  },
  {
   "cell_type": "code",
   "execution_count": 16,
   "metadata": {
    "colab": {
     "base_uri": "https://localhost:8080/",
     "height": 206
    },
    "id": "r8qUKLm3I1hG",
    "outputId": "f9872bac-d7d6-490d-a422-0672828dc1cd"
   },
   "outputs": [
    {
     "data": {
      "text/html": [
       "<div>\n",
       "<style scoped>\n",
       "    .dataframe tbody tr th:only-of-type {\n",
       "        vertical-align: middle;\n",
       "    }\n",
       "\n",
       "    .dataframe tbody tr th {\n",
       "        vertical-align: top;\n",
       "    }\n",
       "\n",
       "    .dataframe thead th {\n",
       "        text-align: right;\n",
       "    }\n",
       "</style>\n",
       "<table border=\"1\" class=\"dataframe\">\n",
       "  <thead>\n",
       "    <tr style=\"text-align: right;\">\n",
       "      <th></th>\n",
       "      <th>Review</th>\n",
       "      <th>Sentiment</th>\n",
       "    </tr>\n",
       "  </thead>\n",
       "  <tbody>\n",
       "    <tr>\n",
       "      <th>0</th>\n",
       "      <td>So there is no way for me to plug it in here i...</td>\n",
       "      <td>0</td>\n",
       "    </tr>\n",
       "    <tr>\n",
       "      <th>1</th>\n",
       "      <td>Good case, Excellent value.</td>\n",
       "      <td>1</td>\n",
       "    </tr>\n",
       "    <tr>\n",
       "      <th>2</th>\n",
       "      <td>Great for the jawbone.</td>\n",
       "      <td>1</td>\n",
       "    </tr>\n",
       "    <tr>\n",
       "      <th>3</th>\n",
       "      <td>Tied to charger for conversations lasting more...</td>\n",
       "      <td>0</td>\n",
       "    </tr>\n",
       "    <tr>\n",
       "      <th>4</th>\n",
       "      <td>The mic is great.</td>\n",
       "      <td>1</td>\n",
       "    </tr>\n",
       "  </tbody>\n",
       "</table>\n",
       "</div>"
      ],
      "text/plain": [
       "                                              Review  Sentiment\n",
       "0  So there is no way for me to plug it in here i...          0\n",
       "1                        Good case, Excellent value.          1\n",
       "2                             Great for the jawbone.          1\n",
       "3  Tied to charger for conversations lasting more...          0\n",
       "4                                  The mic is great.          1"
      ]
     },
     "execution_count": 16,
     "metadata": {},
     "output_type": "execute_result"
    }
   ],
   "source": [
    "data_amazon.head()"
   ]
  },
  {
   "cell_type": "code",
   "execution_count": 17,
   "metadata": {
    "colab": {
     "base_uri": "https://localhost:8080/",
     "height": 36
    },
    "id": "ZR7073HyP2Uj",
    "outputId": "92fa17c8-8916-4bb0-aeee-ab68b02c614b"
   },
   "outputs": [
    {
     "data": {
      "text/plain": [
       "(1000, 2)"
      ]
     },
     "execution_count": 17,
     "metadata": {},
     "output_type": "execute_result"
    }
   ],
   "source": [
    "data_amazon.shape"
   ]
  },
  {
   "cell_type": "code",
   "execution_count": 18,
   "metadata": {
    "colab": {
     "base_uri": "https://localhost:8080/",
     "height": 206
    },
    "id": "0oQsSu4pQP1c",
    "outputId": "96aec5a5-37ea-467e-c961-546041bedb44"
   },
   "outputs": [
    {
     "data": {
      "text/html": [
       "<div>\n",
       "<style scoped>\n",
       "    .dataframe tbody tr th:only-of-type {\n",
       "        vertical-align: middle;\n",
       "    }\n",
       "\n",
       "    .dataframe tbody tr th {\n",
       "        vertical-align: top;\n",
       "    }\n",
       "\n",
       "    .dataframe thead th {\n",
       "        text-align: right;\n",
       "    }\n",
       "</style>\n",
       "<table border=\"1\" class=\"dataframe\">\n",
       "  <thead>\n",
       "    <tr style=\"text-align: right;\">\n",
       "      <th></th>\n",
       "      <th>0</th>\n",
       "      <th>1</th>\n",
       "    </tr>\n",
       "  </thead>\n",
       "  <tbody>\n",
       "    <tr>\n",
       "      <th>0</th>\n",
       "      <td>A very, very, very slow-moving, aimless movie ...</td>\n",
       "      <td>0</td>\n",
       "    </tr>\n",
       "    <tr>\n",
       "      <th>1</th>\n",
       "      <td>Not sure who was more lost - the flat characte...</td>\n",
       "      <td>0</td>\n",
       "    </tr>\n",
       "    <tr>\n",
       "      <th>2</th>\n",
       "      <td>Attempting artiness with black &amp; white and cle...</td>\n",
       "      <td>0</td>\n",
       "    </tr>\n",
       "    <tr>\n",
       "      <th>3</th>\n",
       "      <td>Very little music or anything to speak of.</td>\n",
       "      <td>0</td>\n",
       "    </tr>\n",
       "    <tr>\n",
       "      <th>4</th>\n",
       "      <td>The best scene in the movie was when Gerardo i...</td>\n",
       "      <td>1</td>\n",
       "    </tr>\n",
       "  </tbody>\n",
       "</table>\n",
       "</div>"
      ],
      "text/plain": [
       "                                                   0  1\n",
       "0  A very, very, very slow-moving, aimless movie ...  0\n",
       "1  Not sure who was more lost - the flat characte...  0\n",
       "2  Attempting artiness with black & white and cle...  0\n",
       "3       Very little music or anything to speak of.    0\n",
       "4  The best scene in the movie was when Gerardo i...  1"
      ]
     },
     "execution_count": 18,
     "metadata": {},
     "output_type": "execute_result"
    }
   ],
   "source": [
    "data_imdb = pd.read_csv('data/imdb_labelled.txt',sep='\\t',header=None)\n",
    "data_imdb.head()"
   ]
  },
  {
   "cell_type": "markdown",
   "metadata": {},
   "source": [
    "# imdb_labelled.txt 데이터는 아래 링크를 클릭 하면 보실 수 있습니다.\n",
    "# 링크 - [https://github.com/SEONGJAE-YOO/Natural-Language-Processing-NLP-in-Python-with-8-Projects/blob/main/data/imdb_labelled.txt](https://github.com/SEONGJAE-YOO/Natural-Language-Processing-NLP-in-Python-with-8-Projects/blob/main/data/imdb_labelled.txt)"
   ]
  },
  {
   "cell_type": "code",
   "execution_count": 19,
   "metadata": {
    "id": "ePRcfTyfQb92"
   },
   "outputs": [],
   "source": [
    "data_imdb.columns = columan_name"
   ]
  },
  {
   "cell_type": "code",
   "execution_count": 20,
   "metadata": {
    "colab": {
     "base_uri": "https://localhost:8080/",
     "height": 206
    },
    "id": "KKbyFqDCQsVA",
    "outputId": "2e140ed7-0199-429c-adf8-35a2b453fabc"
   },
   "outputs": [
    {
     "data": {
      "text/html": [
       "<div>\n",
       "<style scoped>\n",
       "    .dataframe tbody tr th:only-of-type {\n",
       "        vertical-align: middle;\n",
       "    }\n",
       "\n",
       "    .dataframe tbody tr th {\n",
       "        vertical-align: top;\n",
       "    }\n",
       "\n",
       "    .dataframe thead th {\n",
       "        text-align: right;\n",
       "    }\n",
       "</style>\n",
       "<table border=\"1\" class=\"dataframe\">\n",
       "  <thead>\n",
       "    <tr style=\"text-align: right;\">\n",
       "      <th></th>\n",
       "      <th>Review</th>\n",
       "      <th>Sentiment</th>\n",
       "    </tr>\n",
       "  </thead>\n",
       "  <tbody>\n",
       "    <tr>\n",
       "      <th>0</th>\n",
       "      <td>A very, very, very slow-moving, aimless movie ...</td>\n",
       "      <td>0</td>\n",
       "    </tr>\n",
       "    <tr>\n",
       "      <th>1</th>\n",
       "      <td>Not sure who was more lost - the flat characte...</td>\n",
       "      <td>0</td>\n",
       "    </tr>\n",
       "    <tr>\n",
       "      <th>2</th>\n",
       "      <td>Attempting artiness with black &amp; white and cle...</td>\n",
       "      <td>0</td>\n",
       "    </tr>\n",
       "    <tr>\n",
       "      <th>3</th>\n",
       "      <td>Very little music or anything to speak of.</td>\n",
       "      <td>0</td>\n",
       "    </tr>\n",
       "    <tr>\n",
       "      <th>4</th>\n",
       "      <td>The best scene in the movie was when Gerardo i...</td>\n",
       "      <td>1</td>\n",
       "    </tr>\n",
       "  </tbody>\n",
       "</table>\n",
       "</div>"
      ],
      "text/plain": [
       "                                              Review  Sentiment\n",
       "0  A very, very, very slow-moving, aimless movie ...          0\n",
       "1  Not sure who was more lost - the flat characte...          0\n",
       "2  Attempting artiness with black & white and cle...          0\n",
       "3       Very little music or anything to speak of.            0\n",
       "4  The best scene in the movie was when Gerardo i...          1"
      ]
     },
     "execution_count": 20,
     "metadata": {},
     "output_type": "execute_result"
    }
   ],
   "source": [
    "data_imdb.head()"
   ]
  },
  {
   "cell_type": "code",
   "execution_count": null,
   "metadata": {
    "colab": {
     "base_uri": "https://localhost:8080/",
     "height": 36
    },
    "id": "QFvjnMnkQsz2",
    "outputId": "552aca54-8d0e-463b-eaf0-f9e926253502"
   },
   "outputs": [
    {
     "data": {
      "text/plain": [
       "(748, 2)"
      ]
     },
     "execution_count": 16,
     "metadata": {
      "tags": []
     },
     "output_type": "execute_result"
    }
   ],
   "source": [
    "data_imdb.shape"
   ]
  },
  {
   "cell_type": "code",
   "execution_count": 22,
   "metadata": {
    "id": "iTgYW6bcRcpZ"
   },
   "outputs": [],
   "source": [
    "# Append all the data in a single dataframe"
   ]
  },
  {
   "cell_type": "code",
   "execution_count": 23,
   "metadata": {
    "id": "PYjkvE4sRfjQ"
   },
   "outputs": [],
   "source": [
    "data = data_yelp.append([data_amazon, data_imdb],ignore_index=True)"
   ]
  },
  {
   "cell_type": "code",
   "execution_count": 24,
   "metadata": {
    "colab": {
     "base_uri": "https://localhost:8080/",
     "height": 36
    },
    "id": "AaaGM7_dRvCx",
    "outputId": "2b05c0f2-65d0-45c1-ad8e-ec739ef47331"
   },
   "outputs": [
    {
     "data": {
      "text/plain": [
       "(2748, 2)"
      ]
     },
     "execution_count": 24,
     "metadata": {},
     "output_type": "execute_result"
    }
   ],
   "source": [
    "data.shape"
   ]
  },
  {
   "cell_type": "code",
   "execution_count": 25,
   "metadata": {
    "colab": {
     "base_uri": "https://localhost:8080/",
     "height": 206
    },
    "id": "FGHtcl_CRydi",
    "outputId": "7ae94d24-36e6-427c-b32c-07d7f1cd0f13"
   },
   "outputs": [
    {
     "data": {
      "text/html": [
       "<div>\n",
       "<style scoped>\n",
       "    .dataframe tbody tr th:only-of-type {\n",
       "        vertical-align: middle;\n",
       "    }\n",
       "\n",
       "    .dataframe tbody tr th {\n",
       "        vertical-align: top;\n",
       "    }\n",
       "\n",
       "    .dataframe thead th {\n",
       "        text-align: right;\n",
       "    }\n",
       "</style>\n",
       "<table border=\"1\" class=\"dataframe\">\n",
       "  <thead>\n",
       "    <tr style=\"text-align: right;\">\n",
       "      <th></th>\n",
       "      <th>Review</th>\n",
       "      <th>Sentiment</th>\n",
       "    </tr>\n",
       "  </thead>\n",
       "  <tbody>\n",
       "    <tr>\n",
       "      <th>0</th>\n",
       "      <td>Wow... Loved this place.</td>\n",
       "      <td>1</td>\n",
       "    </tr>\n",
       "    <tr>\n",
       "      <th>1</th>\n",
       "      <td>Crust is not good.</td>\n",
       "      <td>0</td>\n",
       "    </tr>\n",
       "    <tr>\n",
       "      <th>2</th>\n",
       "      <td>Not tasty and the texture was just nasty.</td>\n",
       "      <td>0</td>\n",
       "    </tr>\n",
       "    <tr>\n",
       "      <th>3</th>\n",
       "      <td>Stopped by during the late May bank holiday of...</td>\n",
       "      <td>1</td>\n",
       "    </tr>\n",
       "    <tr>\n",
       "      <th>4</th>\n",
       "      <td>The selection on the menu was great and so wer...</td>\n",
       "      <td>1</td>\n",
       "    </tr>\n",
       "  </tbody>\n",
       "</table>\n",
       "</div>"
      ],
      "text/plain": [
       "                                              Review  Sentiment\n",
       "0                           Wow... Loved this place.          1\n",
       "1                                 Crust is not good.          0\n",
       "2          Not tasty and the texture was just nasty.          0\n",
       "3  Stopped by during the late May bank holiday of...          1\n",
       "4  The selection on the menu was great and so wer...          1"
      ]
     },
     "execution_count": 25,
     "metadata": {},
     "output_type": "execute_result"
    }
   ],
   "source": [
    "data.head()"
   ]
  },
  {
   "cell_type": "code",
   "execution_count": 26,
   "metadata": {
    "id": "v7cbnqe5R7OR"
   },
   "outputs": [],
   "source": [
    "# check distribution of sentiments"
   ]
  },
  {
   "cell_type": "code",
   "execution_count": 27,
   "metadata": {
    "colab": {
     "base_uri": "https://localhost:8080/",
     "height": 73
    },
    "id": "tmBZbWOCR-p3",
    "outputId": "780b1db5-bf94-41c9-c27c-963b966279ed"
   },
   "outputs": [
    {
     "data": {
      "text/plain": [
       "1    1386\n",
       "0    1362\n",
       "Name: Sentiment, dtype: int64"
      ]
     },
     "execution_count": 27,
     "metadata": {},
     "output_type": "execute_result"
    }
   ],
   "source": [
    "data['Sentiment'].value_counts()\n",
    "\n",
    "# 1386 positive reviews\n",
    "# 1362 Negative reviews"
   ]
  },
  {
   "cell_type": "code",
   "execution_count": 28,
   "metadata": {
    "colab": {
     "base_uri": "https://localhost:8080/",
     "height": 73
    },
    "id": "_Cuulg5nT9Fd",
    "outputId": "c409712b-834b-4aba-e8cc-ca092c4ba6d1"
   },
   "outputs": [
    {
     "data": {
      "text/plain": [
       "Review       0\n",
       "Sentiment    0\n",
       "dtype: int64"
      ]
     },
     "execution_count": 28,
     "metadata": {},
     "output_type": "execute_result"
    }
   ],
   "source": [
    "# check for null values\n",
    "data.isnull().sum()\n",
    "\n",
    "# no null values in the data"
   ]
  },
  {
   "cell_type": "code",
   "execution_count": 30,
   "metadata": {
    "id": "XCPpUC--BNLW"
   },
   "outputs": [],
   "source": [
    "x = data['Review']\n",
    "y = data['Sentiment']"
   ]
  },
  {
   "cell_type": "markdown",
   "metadata": {
    "id": "3uOoNB4vUhiv"
   },
   "source": [
    "# 2) Data Cleaning"
   ]
  },
  {
   "cell_type": "code",
   "execution_count": 31,
   "metadata": {
    "id": "pfe9U2w2AUrI"
   },
   "outputs": [],
   "source": [
    "# here we will remove stopwords, punctuations\n",
    "# as well as we will apply lemmatization"
   ]
  },
  {
   "cell_type": "markdown",
   "metadata": {
    "id": "orsPT3dRAQyk"
   },
   "source": [
    "## Create a function to clean the data"
   ]
  },
  {
   "cell_type": "markdown",
   "metadata": {},
   "source": [
    "# string.punctuation 은 무엇일까?\n",
    "\n",
    "# 참고사이트 - [https://www.delftstack.com/ko/howto/python/how-to-strip-punctuation-from-a-string-in-python/](https://www.delftstack.com/ko/howto/python/how-to-strip-punctuation-from-a-string-in-python/)"
   ]
  },
  {
   "cell_type": "code",
   "execution_count": 32,
   "metadata": {
    "id": "xiut-KzPUjyx"
   },
   "outputs": [],
   "source": [
    "import string"
   ]
  },
  {
   "cell_type": "code",
   "execution_count": 33,
   "metadata": {
    "id": "8-mpZcTiVzbf"
   },
   "outputs": [],
   "source": [
    "punct = string.punctuation"
   ]
  },
  {
   "cell_type": "code",
   "execution_count": 34,
   "metadata": {
    "colab": {
     "base_uri": "https://localhost:8080/",
     "height": 36
    },
    "id": "0lfPRLP9V4f1",
    "outputId": "2332610c-34eb-455f-f28e-d347534e5f9f"
   },
   "outputs": [
    {
     "data": {
      "text/plain": [
       "'!\"#$%&\\'()*+,-./:;<=>?@[\\\\]^_`{|}~'"
      ]
     },
     "execution_count": 34,
     "metadata": {},
     "output_type": "execute_result"
    }
   ],
   "source": [
    "punct"
   ]
  },
  {
   "cell_type": "code",
   "execution_count": 35,
   "metadata": {
    "id": "CxqVH53Ryqlp"
   },
   "outputs": [],
   "source": [
    "from spacy.lang.en.stop_words import STOP_WORDS"
   ]
  },
  {
   "cell_type": "code",
   "execution_count": 36,
   "metadata": {
    "id": "pRwRfHCuy6dR"
   },
   "outputs": [],
   "source": [
    "stopwords = list(STOP_WORDS) # list of stopwords"
   ]
  },
  {
   "cell_type": "code",
   "execution_count": 37,
   "metadata": {
    "colab": {
     "base_uri": "https://localhost:8080/",
     "height": 1000
    },
    "id": "wCeDrNjP4zCu",
    "outputId": "164ebd29-f390-47b8-f28a-51108f1c20c7"
   },
   "outputs": [
    {
     "data": {
      "text/plain": [
       "['most',\n",
       " \"'s\",\n",
       " 'doing',\n",
       " 'but',\n",
       " 'after',\n",
       " 'ten',\n",
       " 'seems',\n",
       " 'them',\n",
       " 'several',\n",
       " 'hereby',\n",
       " 'beside',\n",
       " 'behind',\n",
       " 'hers',\n",
       " 'seem',\n",
       " 'four',\n",
       " 'none',\n",
       " 'for',\n",
       " '‘m',\n",
       " 'those',\n",
       " 'down',\n",
       " 'former',\n",
       " 'each',\n",
       " 'less',\n",
       " 'its',\n",
       " 'two',\n",
       " 'top',\n",
       " 'third',\n",
       " 'across',\n",
       " 'hereupon',\n",
       " '’d',\n",
       " 'themselves',\n",
       " 'my',\n",
       " 'latter',\n",
       " 'how',\n",
       " 'used',\n",
       " 'hence',\n",
       " 'twenty',\n",
       " 'take',\n",
       " 'amount',\n",
       " 'every',\n",
       " 'same',\n",
       " 'everyone',\n",
       " 'thereby',\n",
       " 'show',\n",
       " \"'d\",\n",
       " 'ever',\n",
       " 'therein',\n",
       " 'whether',\n",
       " 'of',\n",
       " 'our',\n",
       " 'thence',\n",
       " 'some',\n",
       " 'bottom',\n",
       " 'ca',\n",
       " 'except',\n",
       " 'nobody',\n",
       " 'whole',\n",
       " 'has',\n",
       " 'his',\n",
       " 'although',\n",
       " '’ve',\n",
       " 'may',\n",
       " 'otherwise',\n",
       " 'twelve',\n",
       " 'seeming',\n",
       " 'n‘t',\n",
       " 'also',\n",
       " 'to',\n",
       " 'next',\n",
       " 'nor',\n",
       " 'more',\n",
       " 'with',\n",
       " 'enough',\n",
       " 'whereafter',\n",
       " 'hereafter',\n",
       " 'whereas',\n",
       " 'others',\n",
       " 'fifteen',\n",
       " '’m',\n",
       " 'ours',\n",
       " 'onto',\n",
       " 'becomes',\n",
       " 'anything',\n",
       " 'sometimes',\n",
       " 'formerly',\n",
       " 'above',\n",
       " 'whom',\n",
       " \"'ve\",\n",
       " 'first',\n",
       " 'indeed',\n",
       " 'get',\n",
       " '’s',\n",
       " 'an',\n",
       " 'eight',\n",
       " 'nowhere',\n",
       " 'the',\n",
       " 'wherein',\n",
       " 'still',\n",
       " 'anyone',\n",
       " 'amongst',\n",
       " 'sometime',\n",
       " 'up',\n",
       " 'further',\n",
       " 'nevertheless',\n",
       " 'rather',\n",
       " 'against',\n",
       " '‘d',\n",
       " 'ourselves',\n",
       " 'made',\n",
       " 'must',\n",
       " 'under',\n",
       " 'could',\n",
       " 'thus',\n",
       " 'not',\n",
       " 'had',\n",
       " 'out',\n",
       " 'least',\n",
       " 'either',\n",
       " 'do',\n",
       " 'beyond',\n",
       " 'nine',\n",
       " 'alone',\n",
       " 'please',\n",
       " \"'ll\",\n",
       " 'she',\n",
       " '‘ll',\n",
       " 'everything',\n",
       " '‘re',\n",
       " '’ll',\n",
       " 'last',\n",
       " 'via',\n",
       " 'unless',\n",
       " 'name',\n",
       " 'so',\n",
       " 'anyhow',\n",
       " 'other',\n",
       " 'one',\n",
       " 'quite',\n",
       " 'mostly',\n",
       " 'really',\n",
       " 'yet',\n",
       " 'both',\n",
       " 'too',\n",
       " 'just',\n",
       " 'whence',\n",
       " 'their',\n",
       " 'becoming',\n",
       " 'than',\n",
       " 'during',\n",
       " 'these',\n",
       " 'empty',\n",
       " 'herself',\n",
       " 'call',\n",
       " 'whose',\n",
       " 'now',\n",
       " 'besides',\n",
       " 'here',\n",
       " 'any',\n",
       " 'her',\n",
       " 'am',\n",
       " 'would',\n",
       " 'have',\n",
       " 'he',\n",
       " 'whoever',\n",
       " 'yourself',\n",
       " 'until',\n",
       " 'be',\n",
       " 'always',\n",
       " 'put',\n",
       " 'elsewhere',\n",
       " 'from',\n",
       " 'been',\n",
       " 'latterly',\n",
       " 'it',\n",
       " 'itself',\n",
       " 'such',\n",
       " 'if',\n",
       " 'at',\n",
       " 'namely',\n",
       " 'being',\n",
       " 'thereupon',\n",
       " 'were',\n",
       " 'a',\n",
       " 'me',\n",
       " 'five',\n",
       " 'hundred',\n",
       " 'whenever',\n",
       " 'they',\n",
       " 'afterwards',\n",
       " 'front',\n",
       " 'various',\n",
       " 'did',\n",
       " 'who',\n",
       " 'in',\n",
       " 'within',\n",
       " \"'re\",\n",
       " 'over',\n",
       " 'give',\n",
       " 'many',\n",
       " 'as',\n",
       " 'thereafter',\n",
       " 'into',\n",
       " \"'m\",\n",
       " 'perhaps',\n",
       " 'using',\n",
       " 'move',\n",
       " 'are',\n",
       " 'well',\n",
       " 'another',\n",
       " 'whatever',\n",
       " 'own',\n",
       " 'i',\n",
       " 'became',\n",
       " 'while',\n",
       " '‘s',\n",
       " 'before',\n",
       " \"n't\",\n",
       " 'what',\n",
       " 'never',\n",
       " 'something',\n",
       " 'can',\n",
       " 'mine',\n",
       " 'though',\n",
       " 'full',\n",
       " 'once',\n",
       " 'anyway',\n",
       " 'someone',\n",
       " 'neither',\n",
       " 'us',\n",
       " 'since',\n",
       " 're',\n",
       " 'without',\n",
       " 'will',\n",
       " 'almost',\n",
       " 'therefore',\n",
       " 'somewhere',\n",
       " 'was',\n",
       " 'n’t',\n",
       " 'whither',\n",
       " 'off',\n",
       " 'often',\n",
       " 'six',\n",
       " 'because',\n",
       " 'does',\n",
       " 'about',\n",
       " 'beforehand',\n",
       " 'might',\n",
       " 'herein',\n",
       " 'below',\n",
       " 'then',\n",
       " 'on',\n",
       " 'that',\n",
       " 'or',\n",
       " 'very',\n",
       " 'fifty',\n",
       " 'see',\n",
       " 'whereby',\n",
       " 'nothing',\n",
       " 'even',\n",
       " 'make',\n",
       " 'much',\n",
       " 'together',\n",
       " 'myself',\n",
       " 'which',\n",
       " 'due',\n",
       " 'again',\n",
       " 'few',\n",
       " 'upon',\n",
       " 'anywhere',\n",
       " 'else',\n",
       " 'per',\n",
       " 'when',\n",
       " 'where',\n",
       " 'only',\n",
       " 'moreover',\n",
       " 'everywhere',\n",
       " 'say',\n",
       " 'cannot',\n",
       " 'him',\n",
       " 'three',\n",
       " '’re',\n",
       " 'throughout',\n",
       " 'your',\n",
       " 'along',\n",
       " 'side',\n",
       " 'should',\n",
       " 'done',\n",
       " 'no',\n",
       " 'all',\n",
       " 'this',\n",
       " 'toward',\n",
       " '‘ve',\n",
       " 'there',\n",
       " 'we',\n",
       " 'towards',\n",
       " 'sixty',\n",
       " 'through',\n",
       " 'you',\n",
       " 'serious',\n",
       " 'and',\n",
       " 'already',\n",
       " 'back',\n",
       " 'wherever',\n",
       " 'between',\n",
       " 'around',\n",
       " 'is',\n",
       " 'however',\n",
       " 'noone',\n",
       " 'by',\n",
       " 'become',\n",
       " 'meanwhile',\n",
       " 'whereupon',\n",
       " 'among',\n",
       " 'thru',\n",
       " 'yours',\n",
       " 'go',\n",
       " 'yourselves',\n",
       " 'seemed',\n",
       " 'himself',\n",
       " 'regarding',\n",
       " 'somehow',\n",
       " 'part',\n",
       " 'why',\n",
       " 'forty',\n",
       " 'keep',\n",
       " 'eleven']"
      ]
     },
     "execution_count": 37,
     "metadata": {},
     "output_type": "execute_result"
    }
   ],
   "source": [
    "stopwords"
   ]
  },
  {
   "cell_type": "code",
   "execution_count": 39,
   "metadata": {
    "id": "KHTcdX6SV8E6"
   },
   "outputs": [],
   "source": [
    "# creating a function for data cleaning"
   ]
  },
  {
   "cell_type": "code",
   "execution_count": 40,
   "metadata": {
    "id": "ZTfcWsAuWCSN"
   },
   "outputs": [],
   "source": [
    "import spacy \n",
    "\n",
    "nlp = spacy.load('en_core_web_sm')\n",
    "\n",
    "def text_data_cleaning(sentence):\n",
    "  doc = nlp(sentence)\n",
    "\n",
    "  tokens = [] # list of tokens\n",
    "  for token in doc:\n",
    "    if token.lemma_ != \"-PRON-\":\n",
    "      temp = token.lemma_.lower().strip()\n",
    "    else:\n",
    "      temp = token.lower_\n",
    "    tokens.append(temp)\n",
    "  \n",
    "  cleaned_tokens = []\n",
    "  for token in tokens:\n",
    "    if token not in stopwords and token not in punct:\n",
    "      cleaned_tokens.append(token)\n",
    "  return cleaned_tokens"
   ]
  },
  {
   "cell_type": "code",
   "execution_count": 41,
   "metadata": {
    "id": "NVsrKStr0E9V"
   },
   "outputs": [],
   "source": [
    "# if root form of that word is not pronoun then it is going to convert that into lower form\n",
    "# and if that word is a proper noun, then we are directly taking lower form, because there is no lemma for proper noun"
   ]
  },
  {
   "cell_type": "code",
   "execution_count": 42,
   "metadata": {
    "colab": {
     "base_uri": "https://localhost:8080/",
     "height": 36
    },
    "id": "VHgVcoYFyStv",
    "outputId": "bd2b32f4-aef0-4648-826f-2f5293e5969f"
   },
   "outputs": [
    {
     "data": {
      "text/plain": [
       "['hello', 'beautiful', 'day', 'outside']"
      ]
     },
     "execution_count": 42,
     "metadata": {},
     "output_type": "execute_result"
    }
   ],
   "source": [
    "text_data_cleaning(\"Hello all, It's a beautiful day outside there!\")\n",
    "# stopwords and punctuations removed"
   ]
  },
  {
   "cell_type": "markdown",
   "metadata": {
    "id": "gb-4E3Xj0MZI"
   },
   "source": [
    "## Vectorization Feature Engineering (TF-IDF)"
   ]
  },
  {
   "cell_type": "code",
   "execution_count": 43,
   "metadata": {
    "id": "EHlWW9D10XwB"
   },
   "outputs": [],
   "source": [
    "from sklearn.svm import LinearSVC\n",
    "from sklearn.feature_extraction.text import TfidfVectorizer\n",
    "from sklearn.pipeline import Pipeline"
   ]
  },
  {
   "cell_type": "code",
   "execution_count": 44,
   "metadata": {
    "id": "3OZuzO9c0mhq"
   },
   "outputs": [],
   "source": [
    "tfidf = TfidfVectorizer(tokenizer=text_data_cleaning)\n",
    "# tokenizer=text_data_cleaning, tokenization will be done according to this function"
   ]
  },
  {
   "cell_type": "code",
   "execution_count": 45,
   "metadata": {
    "id": "kgu3SPK61G3T"
   },
   "outputs": [],
   "source": [
    "classifier = LinearSVC()"
   ]
  },
  {
   "cell_type": "markdown",
   "metadata": {
    "id": "GaJPf_MWAiUk"
   },
   "source": [
    "# 3) Train the model"
   ]
  },
  {
   "cell_type": "markdown",
   "metadata": {
    "id": "BkEiNIFwBfgM"
   },
   "source": [
    "## Splitting the dataset into the Train and Test set"
   ]
  },
  {
   "cell_type": "code",
   "execution_count": 46,
   "metadata": {
    "id": "Qeqrb1Es1LyF"
   },
   "outputs": [],
   "source": [
    "from sklearn.model_selection import train_test_split\n",
    "x_train, x_test, y_train, y_test = train_test_split(x, y, test_size = 0.2, random_state = 0)"
   ]
  },
  {
   "cell_type": "code",
   "execution_count": 47,
   "metadata": {
    "colab": {
     "base_uri": "https://localhost:8080/",
     "height": 36
    },
    "id": "DUX2gNXl1Q8c",
    "outputId": "9d367280-1181-4f12-b8b2-2517853b649e"
   },
   "outputs": [
    {
     "data": {
      "text/plain": [
       "((2198,), (550,))"
      ]
     },
     "execution_count": 47,
     "metadata": {},
     "output_type": "execute_result"
    }
   ],
   "source": [
    "x_train.shape, x_test.shape\n",
    "# 2198 samples in training dataset and 550 in test dataset"
   ]
  },
  {
   "cell_type": "code",
   "execution_count": 48,
   "metadata": {
    "colab": {
     "base_uri": "https://localhost:8080/",
     "height": 130
    },
    "id": "AnTud3Cw2jVL",
    "outputId": "d33e42cd-07de-48d3-a059-cbd02053c8af"
   },
   "outputs": [
    {
     "data": {
      "text/plain": [
       "2572    An Italian reviewer called this \"a small, grea...\n",
       "526                          And it was way to expensive.\n",
       "1509    As an earlier review noted, plug in this charg...\n",
       "144     Nice blanket of moz over top but i feel like t...\n",
       "2483    The film gives meaning to the phrase, \"Never i...\n",
       "Name: Review, dtype: object"
      ]
     },
     "execution_count": 48,
     "metadata": {},
     "output_type": "execute_result"
    }
   ],
   "source": [
    "x_train.head()"
   ]
  },
  {
   "cell_type": "markdown",
   "metadata": {
    "id": "vrCsAstOAwa6"
   },
   "source": [
    "## Fit the x_train and y_train"
   ]
  },
  {
   "cell_type": "code",
   "execution_count": 49,
   "metadata": {
    "id": "iuVdiRzP26sc"
   },
   "outputs": [],
   "source": [
    "clf = Pipeline([('tfidf',tfidf), ('clf',classifier)])\n",
    "# it will first do vectorization and then it will do classification"
   ]
  },
  {
   "cell_type": "code",
   "execution_count": 50,
   "metadata": {
    "colab": {
     "base_uri": "https://localhost:8080/",
     "height": 411
    },
    "id": "IpxdCk475DKW",
    "outputId": "18d9d099-d558-4e43-8707-13b5957fc78a"
   },
   "outputs": [
    {
     "data": {
      "text/plain": [
       "Pipeline(steps=[('tfidf',\n",
       "                 TfidfVectorizer(tokenizer=<function text_data_cleaning at 0x0000015BB7D451F0>)),\n",
       "                ('clf', LinearSVC())])"
      ]
     },
     "execution_count": 50,
     "metadata": {},
     "output_type": "execute_result"
    }
   ],
   "source": [
    "clf.fit(x_train, y_train)"
   ]
  },
  {
   "cell_type": "code",
   "execution_count": 51,
   "metadata": {
    "id": "oAH9-v355Jua"
   },
   "outputs": [],
   "source": [
    "# in this we don't need to prepare the dataset for testing(x_test)"
   ]
  },
  {
   "cell_type": "markdown",
   "metadata": {
    "id": "yCVFR5A25qaS"
   },
   "source": [
    "# 4) Predict the Test set results"
   ]
  },
  {
   "cell_type": "code",
   "execution_count": 52,
   "metadata": {
    "id": "xp3Nj55h5smN"
   },
   "outputs": [],
   "source": [
    "from sklearn.metrics import accuracy_score, classification_report, confusion_matrix"
   ]
  },
  {
   "cell_type": "code",
   "execution_count": 53,
   "metadata": {
    "id": "i2yugURA50Td"
   },
   "outputs": [],
   "source": [
    "y_pred = clf.predict(x_test)"
   ]
  },
  {
   "cell_type": "code",
   "execution_count": 54,
   "metadata": {
    "colab": {
     "base_uri": "https://localhost:8080/",
     "height": 55
    },
    "id": "xvt59nSM58ee",
    "outputId": "f89ca497-b2d9-4ae0-bef6-b50300383088"
   },
   "outputs": [
    {
     "data": {
      "text/plain": [
       "array([[203,  76],\n",
       "       [ 49, 222]], dtype=int64)"
      ]
     },
     "execution_count": 54,
     "metadata": {},
     "output_type": "execute_result"
    }
   ],
   "source": [
    "# confusion_matrix\n",
    "confusion_matrix(y_test, y_pred)"
   ]
  },
  {
   "cell_type": "code",
   "execution_count": 55,
   "metadata": {
    "colab": {
     "base_uri": "https://localhost:8080/",
     "height": 186
    },
    "id": "CoX7Jabd6Ar1",
    "outputId": "af6ab616-8b71-46af-93f3-88194ec44334"
   },
   "outputs": [
    {
     "name": "stdout",
     "output_type": "stream",
     "text": [
      "              precision    recall  f1-score   support\n",
      "\n",
      "           0       0.81      0.73      0.76       279\n",
      "           1       0.74      0.82      0.78       271\n",
      "\n",
      "    accuracy                           0.77       550\n",
      "   macro avg       0.78      0.77      0.77       550\n",
      "weighted avg       0.78      0.77      0.77       550\n",
      "\n"
     ]
    }
   ],
   "source": [
    "# classification_report\n",
    "print(classification_report(y_test, y_pred))\n",
    "# we are getting almost 77% accuracy"
   ]
  },
  {
   "cell_type": "code",
   "execution_count": 57,
   "metadata": {
    "colab": {
     "base_uri": "https://localhost:8080/",
     "height": 36
    },
    "id": "d5cosLk16ChG",
    "outputId": "6a2af84c-b54a-42ba-cfb3-97168a3e1577"
   },
   "outputs": [
    {
     "data": {
      "text/plain": [
       "0.7727272727272727"
      ]
     },
     "execution_count": 57,
     "metadata": {},
     "output_type": "execute_result"
    }
   ],
   "source": [
    "accuracy_score(y_test, y_pred)\n",
    "# 77% accuracy"
   ]
  },
  {
   "cell_type": "code",
   "execution_count": 58,
   "metadata": {
    "colab": {
     "base_uri": "https://localhost:8080/",
     "height": 36
    },
    "id": "yKNI3c0k6TFr",
    "outputId": "5042553e-ae88-4cd7-a283-0cae125bfba3"
   },
   "outputs": [
    {
     "data": {
      "text/plain": [
       "array([1], dtype=int64)"
      ]
     },
     "execution_count": 58,
     "metadata": {},
     "output_type": "execute_result"
    }
   ],
   "source": [
    "clf.predict([\"Wow, I am learning Natural Language Processing in fun fashion!\"])\n",
    "# output is 1, that means review is positive"
   ]
  },
  {
   "cell_type": "code",
   "execution_count": 59,
   "metadata": {
    "colab": {
     "base_uri": "https://localhost:8080/",
     "height": 36
    },
    "id": "7SZOQurK6420",
    "outputId": "6cca97ba-acc9-4163-f8dd-a710497d137c"
   },
   "outputs": [
    {
     "data": {
      "text/plain": [
       "array([0], dtype=int64)"
      ]
     },
     "execution_count": 59,
     "metadata": {},
     "output_type": "execute_result"
    }
   ],
   "source": [
    "clf.predict([\"It's hard to learn new things!\"])\n",
    "# output is 0, that means review is Negative"
   ]
  }
 ],
 "metadata": {
  "colab": {
   "collapsed_sections": [],
   "name": "IMDB and Amazon Review Classification with SpaCy.ipynb",
   "provenance": []
  },
  "kernelspec": {
   "display_name": "Python 3",
   "language": "python",
   "name": "python3"
  },
  "language_info": {
   "codemirror_mode": {
    "name": "ipython",
    "version": 3
   },
   "file_extension": ".py",
   "mimetype": "text/x-python",
   "name": "python",
   "nbconvert_exporter": "python",
   "pygments_lexer": "ipython3",
   "version": "3.8.5"
  },
  "toc": {
   "base_numbering": 1,
   "nav_menu": {},
   "number_sections": true,
   "sideBar": true,
   "skip_h1_title": false,
   "title_cell": "Table of Contents",
   "title_sidebar": "Contents",
   "toc_cell": false,
   "toc_position": {},
   "toc_section_display": true,
   "toc_window_display": false
  }
 },
 "nbformat": 4,
 "nbformat_minor": 1
}
