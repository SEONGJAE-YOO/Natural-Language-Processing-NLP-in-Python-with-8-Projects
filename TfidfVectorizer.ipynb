{
 "cells": [
  {
   "cell_type": "markdown",
   "id": "e731471a",
   "metadata": {},
   "source": [
    "# TfidfVectorizer은 무엇일까?\n",
    "\n",
    "# 참고사이트 - [https://chan-lab.tistory.com/27](https://chan-lab.tistory.com/27)"
   ]
  },
  {
   "cell_type": "code",
   "execution_count": 1,
   "id": "b2621ff9",
   "metadata": {},
   "outputs": [],
   "source": [
    "from sklearn.feature_extraction.text import TfidfVectorizer \n",
    "\n",
    "text = ['I go to my home my home is very large', 'I went out my home I go to the market', 'I bought a yellow lemon I go back to home'] \n",
    "\n",
    "tfidf_vectorizer = TfidfVectorizer()\n"
   ]
  },
  {
   "cell_type": "code",
   "execution_count": 2,
   "id": "059d7dd0",
   "metadata": {},
   "outputs": [
    {
     "data": {
      "text/plain": [
       "[('back', 0),\n",
       " ('bought', 1),\n",
       " ('go', 2),\n",
       " ('home', 3),\n",
       " ('is', 4),\n",
       " ('large', 5),\n",
       " ('lemon', 6),\n",
       " ('market', 7),\n",
       " ('my', 8),\n",
       " ('out', 9),\n",
       " ('the', 10),\n",
       " ('to', 11),\n",
       " ('very', 12),\n",
       " ('went', 13),\n",
       " ('yellow', 14)]"
      ]
     },
     "execution_count": 2,
     "metadata": {},
     "output_type": "execute_result"
    }
   ],
   "source": [
    "tfidf_vectorizer.fit(text) # 벡터라이저가 단어들을 학습합니다. \n",
    "tfidf_vectorizer.vocabulary_ # 벡터라이저가 학습한 단어사전을 출력합니다. \n",
    "sorted(tfidf_vectorizer.vocabulary_.items()) # 단어사전을 정렬합니다.\n"
   ]
  },
  {
   "cell_type": "markdown",
   "id": "37a2f151",
   "metadata": {},
   "source": [
    "min-df는 DF(document-frequency)의 최소 빈도값을 설정해주는 파라미터입니다.\n",
    "\n",
    "\n",
    "DF는 특정 단어가 나타나는 '문서의 수'를 의미합니다.\n",
    "\n",
    "\n",
    "'home'이라는 단어가 포함된 문서의 수는 3개이기 때문에 DF = 3 입니다.\n"
   ]
  },
  {
   "cell_type": "code",
   "execution_count": 3,
   "id": "80353e99",
   "metadata": {},
   "outputs": [
    {
     "data": {
      "text/plain": [
       "[('go', 0), ('home', 1), ('my', 2), ('to', 3)]"
      ]
     },
     "execution_count": 3,
     "metadata": {},
     "output_type": "execute_result"
    }
   ],
   "source": [
    "min_df_vectorizer = TfidfVectorizer(min_df = 2) \n",
    "min_df_vectorizer.fit(text) \n",
    "sorted(min_df_vectorizer.vocabulary_.items())\n"
   ]
  },
  {
   "cell_type": "markdown",
   "id": "850687b7",
   "metadata": {},
   "source": [
    "TfidfVectorizer 객체를 생성할 때, 위와 같이 min-df 파라미터를 설정하였습니다.\n",
    "최소 DF가 2로 설정되었으니, 1인 것들은 모두 탈락하게 됩니다.\n",
    "(PPT 설명화면에서 회색박스 글자들은 모두 DF가 1인 것들입니다.)\n",
    "\n"
   ]
  }
 ],
 "metadata": {
  "kernelspec": {
   "display_name": "Python [conda env:text_analysis]",
   "language": "python",
   "name": "conda-env-text_analysis-py"
  },
  "language_info": {
   "codemirror_mode": {
    "name": "ipython",
    "version": 3
   },
   "file_extension": ".py",
   "mimetype": "text/x-python",
   "name": "python",
   "nbconvert_exporter": "python",
   "pygments_lexer": "ipython3",
   "version": "3.6.13"
  },
  "toc": {
   "base_numbering": 1,
   "nav_menu": {},
   "number_sections": true,
   "sideBar": true,
   "skip_h1_title": false,
   "title_cell": "Table of Contents",
   "title_sidebar": "Contents",
   "toc_cell": false,
   "toc_position": {},
   "toc_section_display": true,
   "toc_window_display": false
  }
 },
 "nbformat": 4,
 "nbformat_minor": 5
}
