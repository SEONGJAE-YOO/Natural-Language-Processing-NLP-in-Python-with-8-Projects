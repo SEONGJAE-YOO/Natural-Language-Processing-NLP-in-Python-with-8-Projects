{
 "cells": [
  {
   "cell_type": "markdown",
   "metadata": {
    "id": "QTtg6zaN_IyN"
   },
   "source": [
    "## Named Entity Recognition\n",
    "\n",
    "spaCy features an extremely fast statistical entity recognition system, that assigns labels to contiguous spans of tokens. The default trained pipelines can identify a variety of named and numeric entities, including companies, locations, organizations and products. You can add arbitrary classes to the entity recognition system, and update the model with new examples.\n",
    "\n",
    "spaCy는 연속적인 토큰 범위에 레이블을 할당하는 매우 빠른 통계적 개체 인식 시스템을 특징으로 합니다. 기본 훈련된 파이프라인은 회사, 위치, 조직 및 제품을 포함하여 다양한 이름 및 숫자 엔터티를 식별할 수 있습니다. 엔티티 인식 시스템에 임의의 클래스를 추가하고 새 예제로 모델을 업데이트할 수 있습니다."
   ]
  },
  {
   "cell_type": "markdown",
   "metadata": {},
   "source": [
    "# Named Entity Recognition NER using spaCy | NLP | Part 4\n",
    "\n",
    "# 참고 사이트 -[https://towardsdatascience.com/named-entity-recognition-ner-using-spacy-nlp-part-4-28da2ece57c6](https://towardsdatascience.com/named-entity-recognition-ner-using-spacy-nlp-part-4-28da2ece57c6)\n",
    "\n",
    "\n",
    "Named Entity Recognition is the most important, or I would say, the starting step in Information Retrieval. Information Retrieval is the technique to extract important and useful information from unstructured raw text documents. Named Entity Recognition NER works by locating and identifying the named entities present in unstructured text into the standard categories such as person names, locations, organizations, time expressions, quantities, monetary values, percentage, codes etc. Spacy comes with an extremely fast statistical entity recognition system that assigns labels to contiguous spans of tokens.\n",
    "\n",
    "Named Entity Recognition은 정보 검색의 시작 단계 중 가장 중요합니다. 정보 검색은 구조화되지 않은 원시 텍스트 문서에서 중요하고 유용한 정보를 추출하는 기술입니다. Named Entity Recognition NER는 사람 이름, 위치, 조직, 시간 표현, 수량, 금전적 가치, 백분율, 코드 등과 같은 표준 범주로 구조화되지 않은 텍스트에 있는 명명된 엔터티를 찾아 식별하는 방식으로 작동합니다. Spacy는 연속적인 토큰 범위에 레이블을 할당하는 매우 빠른 통계 개체와 함께 제공됩니다.\n",
    "\n",
    "Spacy provides an option to add arbitrary classes to entity recognition systems and update the model to even include the new examples apart from already defined entities within the model.\n",
    "Spacy has the ‘ner’ pipeline component that identifies token spans fitting a predetermined set of named entities. These are available as the ‘ents’ property of a Doc object.\n",
    "\n",
    "Spacy는 엔티티 인식 시스템에 임의의 클래스를 추가하고 모델 내에서 이미 정의된 엔티티와 별개로 새 예제를 포함하도록 모델을 업데이트하는 옵션을 제공합니다.\n",
    "Spacy에는 미리 결정된 명명된 엔터티 집합에 맞는 토큰 범위를 식별하는 'ner' 파이프라인 구성 요소가 있습니다. 이들은 Doc 객체의 'ents' 속성으로 사용할 수 있습니다."
   ]
  },
  {
   "cell_type": "code",
   "execution_count": 1,
   "metadata": {
    "id": "FM1YsOpp_Pae"
   },
   "outputs": [],
   "source": [
    "s1 = \"Apple is looking at buying U.K. startup for $1 billion\"\n",
    "s2 = \"San Francisco considers banning sidewalk delivery robots\"\n",
    "s3 = \"facebook is hiring a new vice president in U.S.\""
   ]
  },
  {
   "cell_type": "code",
   "execution_count": 2,
   "metadata": {
    "id": "Z1zOO8lO_JpW"
   },
   "outputs": [],
   "source": [
    "import spacy\n",
    "nlp = spacy.load(name='en_core_web_sm')"
   ]
  },
  {
   "cell_type": "code",
   "execution_count": 5,
   "metadata": {},
   "outputs": [
    {
     "data": {
      "text/plain": [
       "(Apple, U.K., $1 billion)"
      ]
     },
     "execution_count": 5,
     "metadata": {},
     "output_type": "execute_result"
    }
   ],
   "source": [
    "doc1 = nlp(s1)\n",
    "doc1.ents"
   ]
  },
  {
   "cell_type": "markdown",
   "metadata": {},
   "source": [
    "# doc.ents property가 무엇일까?\n",
    "\n",
    "# 참고사이트 - [https://www.tutorialspoint.com/spacy/spacy_doc_ents.htm](https://www.tutorialspoint.com/spacy/spacy_doc_ents.htm)\n",
    "\n",
    "This doc property is used for the named entities in the document. If the entity recognizer has been applied, this property will return a tuple of named entity span objects.\n",
    "\n",
    "이 doc 속성은 문서의 명명된 엔터티에 사용됩니다. 엔터티 인식기가 적용된 경우 이 속성은 명명된 엔터티 범위 개체의 튜플을 반환합니다.\n",
    "\n"
   ]
  },
  {
   "cell_type": "code",
   "execution_count": 3,
   "metadata": {
    "colab": {
     "base_uri": "https://localhost:8080/",
     "height": 73
    },
    "id": "aNgg-0WPDpSd",
    "outputId": "581ae3df-d631-4cdf-9a14-066553b78ed9"
   },
   "outputs": [
    {
     "name": "stdout",
     "output_type": "stream",
     "text": [
      "Apple ORG Companies, agencies, institutions, etc.\n",
      "U.K. GPE Countries, cities, states\n",
      "$1 billion MONEY Monetary values, including unit\n"
     ]
    }
   ],
   "source": [
    "doc1 = nlp(s1)\n",
    "for ent in doc1.ents:\n",
    "  print(ent.text, ent.label_, str(spacy.explain(ent.label_)))"
   ]
  },
  {
   "cell_type": "code",
   "execution_count": 6,
   "metadata": {
    "colab": {
     "base_uri": "https://localhost:8080/",
     "height": 36
    },
    "id": "ICnBRbDGEnqW",
    "outputId": "b64dbaee-d808-47bb-a3c3-fea603484b42"
   },
   "outputs": [
    {
     "name": "stdout",
     "output_type": "stream",
     "text": [
      "San Francisco GPE Countries, cities, states\n"
     ]
    }
   ],
   "source": [
    "doc2 = nlp(s2)\n",
    "for ent in doc2.ents:\n",
    "  print(ent.text, ent.label_, str(spacy.explain(ent.label_)))"
   ]
  },
  {
   "cell_type": "code",
   "execution_count": 7,
   "metadata": {
    "colab": {
     "base_uri": "https://localhost:8080/",
     "height": 55
    },
    "id": "y9Z8gaMDEvRx",
    "outputId": "655e1975-478a-4f2c-d1fa-a9ee94175a17"
   },
   "outputs": [
    {
     "name": "stdout",
     "output_type": "stream",
     "text": [
      "facebook is hiring a new vice president in U.S.\n",
      "U.S. GPE Countries, cities, states\n"
     ]
    }
   ],
   "source": [
    "print(s3)\n",
    "doc3 = nlp(s3)  # facebook은 name entity 가 아니다\n",
    "for ent in doc3.ents:\n",
    "  print(ent.text, ent.label_, str(spacy.explain(ent.label_)))"
   ]
  },
  {
   "cell_type": "markdown",
   "metadata": {},
   "source": [
    "# facebook을 name entity로 추가하고 싶을때 방법"
   ]
  },
  {
   "cell_type": "code",
   "execution_count": 8,
   "metadata": {
    "id": "ZMCinwQuFVfH"
   },
   "outputs": [],
   "source": [
    "ORG = doc3.vocab.strings['ORG']"
   ]
  },
  {
   "cell_type": "code",
   "execution_count": 9,
   "metadata": {
    "id": "0SDqCF0MFVnM"
   },
   "outputs": [],
   "source": [
    "from spacy.tokens import Span\n",
    "new_ent = Span(doc3, 0, 1, label = ORG)"
   ]
  },
  {
   "cell_type": "markdown",
   "metadata": {},
   "source": [
    "# span 클래스란 무엇일까?\n",
    "\n",
    "# 참고사이트- [https://spacy.io/api/span](https://spacy.io/api/span)\n",
    "\n",
    "A slice from a Doc object.\n",
    "\n"
   ]
  },
  {
   "cell_type": "code",
   "execution_count": 10,
   "metadata": {
    "id": "n1yhQh7gE_ui"
   },
   "outputs": [],
   "source": [
    "doc3.ents = list(doc3.ents) + [new_ent]"
   ]
  },
  {
   "cell_type": "code",
   "execution_count": 11,
   "metadata": {
    "colab": {
     "base_uri": "https://localhost:8080/",
     "height": 36
    },
    "id": "kQ2o-Gg4FGQY",
    "outputId": "8fb60b5b-a74d-43ca-afe3-d407542fbe7f"
   },
   "outputs": [
    {
     "data": {
      "text/plain": [
       "(facebook, U.S.)"
      ]
     },
     "execution_count": 11,
     "metadata": {},
     "output_type": "execute_result"
    }
   ],
   "source": [
    "doc3.ents"
   ]
  },
  {
   "cell_type": "code",
   "execution_count": 12,
   "metadata": {
    "colab": {
     "base_uri": "https://localhost:8080/",
     "height": 73
    },
    "id": "QZScsKKsFGT5",
    "outputId": "bad6f638-f1d8-4d8d-9313-d756c74c5794"
   },
   "outputs": [
    {
     "name": "stdout",
     "output_type": "stream",
     "text": [
      "facebook is hiring a new vice president in U.S.\n",
      "facebook ORG Companies, agencies, institutions, etc.\n",
      "U.S. GPE Countries, cities, states\n"
     ]
    }
   ],
   "source": [
    "print(s3)\n",
    "for ent in doc3.ents:\n",
    "  print(ent.text, ent.label_, str(spacy.explain(ent.label_)))"
   ]
  },
  {
   "cell_type": "code",
   "execution_count": 13,
   "metadata": {
    "id": "K5GpI1uBF9Km"
   },
   "outputs": [],
   "source": [
    "from spacy import displacy"
   ]
  },
  {
   "cell_type": "code",
   "execution_count": 14,
   "metadata": {
    "colab": {
     "base_uri": "https://localhost:8080/",
     "height": 52
    },
    "id": "6dhLzcqGGN33",
    "outputId": "c726d033-5bc4-4f65-88b8-641515bd396d"
   },
   "outputs": [
    {
     "data": {
      "text/html": [
       "<span class=\"tex2jax_ignore\"><div class=\"entities\" style=\"line-height: 2.5; direction: ltr\">\n",
       "<mark class=\"entity\" style=\"background: #7aecec; padding: 0.45em 0.6em; margin: 0 0.25em; line-height: 1; border-radius: 0.35em;\">\n",
       "    Apple\n",
       "    <span style=\"font-size: 0.8em; font-weight: bold; line-height: 1; border-radius: 0.35em; vertical-align: middle; margin-left: 0.5rem\">ORG</span>\n",
       "</mark>\n",
       " is looking at buying \n",
       "<mark class=\"entity\" style=\"background: #feca74; padding: 0.45em 0.6em; margin: 0 0.25em; line-height: 1; border-radius: 0.35em;\">\n",
       "    U.K.\n",
       "    <span style=\"font-size: 0.8em; font-weight: bold; line-height: 1; border-radius: 0.35em; vertical-align: middle; margin-left: 0.5rem\">GPE</span>\n",
       "</mark>\n",
       " startup for \n",
       "<mark class=\"entity\" style=\"background: #e4e7d2; padding: 0.45em 0.6em; margin: 0 0.25em; line-height: 1; border-radius: 0.35em;\">\n",
       "    $1 billion\n",
       "    <span style=\"font-size: 0.8em; font-weight: bold; line-height: 1; border-radius: 0.35em; vertical-align: middle; margin-left: 0.5rem\">MONEY</span>\n",
       "</mark>\n",
       "</div></span>"
      ],
      "text/plain": [
       "<IPython.core.display.HTML object>"
      ]
     },
     "metadata": {},
     "output_type": "display_data"
    }
   ],
   "source": [
    "displacy.render(docs = doc1, style= 'ent', jupyter=True)"
   ]
  },
  {
   "cell_type": "code",
   "execution_count": 15,
   "metadata": {
    "colab": {
     "base_uri": "https://localhost:8080/",
     "height": 52
    },
    "id": "ecw9BS0WGnLI",
    "outputId": "6aef151e-1fe7-4ada-dea6-01ef0ffb9e11"
   },
   "outputs": [
    {
     "data": {
      "text/html": [
       "<span class=\"tex2jax_ignore\"><div class=\"entities\" style=\"line-height: 2.5; direction: ltr\">\n",
       "<mark class=\"entity\" style=\"background: #7aecec; padding: 0.45em 0.6em; margin: 0 0.25em; line-height: 1; border-radius: 0.35em;\">\n",
       "    Apple\n",
       "    <span style=\"font-size: 0.8em; font-weight: bold; line-height: 1; border-radius: 0.35em; vertical-align: middle; margin-left: 0.5rem\">ORG</span>\n",
       "</mark>\n",
       " is looking at buying U.K. startup for $1 billion</div></span>"
      ],
      "text/plain": [
       "<IPython.core.display.HTML object>"
      ]
     },
     "metadata": {},
     "output_type": "display_data"
    }
   ],
   "source": [
    "displacy.render(docs = doc1, style= 'ent',options={'ents': ['ORG']}, jupyter=True)"
   ]
  }
 ],
 "metadata": {
  "colab": {
   "name": "Named Entity Recognition.ipynb",
   "provenance": []
  },
  "kernelspec": {
   "display_name": "Python 3",
   "language": "python",
   "name": "python3"
  },
  "language_info": {
   "codemirror_mode": {
    "name": "ipython",
    "version": 3
   },
   "file_extension": ".py",
   "mimetype": "text/x-python",
   "name": "python",
   "nbconvert_exporter": "python",
   "pygments_lexer": "ipython3",
   "version": "3.8.5"
  },
  "toc": {
   "base_numbering": 1,
   "nav_menu": {},
   "number_sections": true,
   "sideBar": true,
   "skip_h1_title": false,
   "title_cell": "Table of Contents",
   "title_sidebar": "Contents",
   "toc_cell": false,
   "toc_position": {},
   "toc_section_display": true,
   "toc_window_display": false
  }
 },
 "nbformat": 4,
 "nbformat_minor": 1
}
