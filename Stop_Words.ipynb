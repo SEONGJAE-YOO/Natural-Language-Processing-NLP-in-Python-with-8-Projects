{
 "cells": [
  {
   "cell_type": "markdown",
   "metadata": {
    "id": "CRMYm2UDRfTt"
   },
   "source": [
    "# Stop Words"
   ]
  },
  {
   "cell_type": "markdown",
   "metadata": {},
   "source": [
    "# 불용어\n",
    "갖고 있는 데이터에서 유의미한 단어 토큰만을 선별하기 위해서는 큰 의미가 없는 단어 토큰을 제거하는 작업이 필요합니다. 여기서 큰 의미가 없다라는 것은 자주 등장하지만 분석을 하는 것에 있어서는 큰 도움이 되지 않는 단어들을 말합니다. 예를 들면, I, my, me, over, 조사, 접미사 같은 단어들은 문장에서는 자주 등장하지만 실제 의미 분석을 하는데는 거의 기여하는 바가 없는 경우가 있습니다. 이러한 단어들을 불용어(stopword)라고 하며, NLTK에서는 위와 같은 100여개 이상의 영어 단어들을 불용어로 패키지 내에서 미리 정의하고 있습니다."
   ]
  },
  {
   "cell_type": "markdown",
   "metadata": {
    "id": "-p5d64tdTE5b"
   },
   "source": [
    "a  an the always"
   ]
  },
  {
   "cell_type": "markdown",
   "metadata": {},
   "source": [
    "# spacy 라이브러리로 불용어 제거"
   ]
  },
  {
   "cell_type": "code",
   "execution_count": 1,
   "metadata": {
    "id": "9zfxBXEsRiGr"
   },
   "outputs": [],
   "source": [
    "import spacy\n",
    "nlp = spacy.load('en_core_web_sm')"
   ]
  },
  {
   "cell_type": "code",
   "execution_count": 2,
   "metadata": {
    "colab": {
     "base_uri": "https://localhost:8080/",
     "height": 55
    },
    "id": "GnRcM72bTRR0",
    "outputId": "992b3ed7-bfc3-498a-de4f-adc6864a7c22"
   },
   "outputs": [
    {
     "name": "stdout",
     "output_type": "stream",
     "text": [
      "{'without', 'over', 'also', 'whatever', '‘m', 'anyhow', 'as', 'someone', 'seeming', 'its', 'moreover', 'do', 'one', \"'ve\", 'own', 'our', 'n‘t', 'further', 'third', 'really', 'everyone', 'against', 'rather', 'seemed', 'before', 'among', 'hence', 'i', 'across', 'now', 'did', 'quite', 'many', 'does', 'nowhere', 'those', 'two', 'became', 'behind', 'enough', 'more', 'any', 'twelve', 'beforehand', 'their', 'everything', 'you', 'should', 'when', 'within', '‘d', 'amongst', 'by', 'herself', 'however', 'whereafter', 'put', 'have', 'myself', 'in', 'become', 'anyway', 'first', 'up', 'give', 'this', 'a', 'others', 'so', 'using', 'alone', 'serious', 'where', \"'re\", 'eleven', 'forty', 'seem', 'hereafter', 'perhaps', 'sometime', 'them', 'until', 'three', 'call', 'thereupon', 'go', 'otherwise', 'whose', 'is', 'or', 'during', 'thru', 'either', 'ever', 'cannot', 'take', 'bottom', 'although', 'themselves', 'whereas', 'towards', 'and', '’ve', 'eight', 'ourselves', '’ll', 'yet', 'always', 'had', 'out', 'yourself', 'becoming', 'most', 'hundred', 'after', 'please', 'about', 'his', 'through', 'next', 'every', 'what', 'would', 'but', 'yours', \"'d\", 'doing', 'formerly', 'an', 'whence', 'toward', 'via', 'who', 'he', 'ours', '’re', 'latter', 'make', 'four', 'mine', 'well', 'several', 'it', 'which', 'along', 'again', 'must', 'they', 'used', 'meanwhile', 'nobody', 'between', '‘ve', 'say', 'since', 'beside', \"'ll\", 'done', 'not', 'wherein', 'has', 'her', 'us', 'hereby', 'never', 'much', 'another', 'of', 're', 'due', 'how', 'five', '‘ll', 'itself', 'under', 'anyone', 'then', 'here', 'can', 'whom', 'nor', 'show', 'will', 'various', 'seems', 'somehow', 'why', 'both', 'sixty', 'neither', 'elsewhere', '‘re', 'regarding', 'she', 'once', 'could', 'might', 'other', 'wherever', 'back', 'noone', 'himself', 'together', 'whether', 'been', 'no', 'less', 'there', 'keep', 'side', 'that', 'per', \"n't\", 'except', 'thus', 'below', 'herein', 'becomes', 'from', 'somewhere', 'too', 'with', 'such', 'whereupon', 'indeed', 'just', 'are', 'to', 'sometimes', 'these', 'none', 'therein', 'twenty', 'thereafter', 'thence', \"'m\", 'into', 'amount', 'besides', 'whenever', 'yourselves', 'part', 'very', 'off', 'nevertheless', 'last', 'your', 'see', 'may', '’d', 'few', 'for', 'therefore', 'am', 'onto', '’m', 'everywhere', 'nine', 'be', 'thereby', 'down', 'fifty', 'around', 'move', 'than', 'the', 'were', 'him', 'throughout', 'while', 'hers', 'being', 'whoever', 'on', 'if', 'some', 'front', 'hereupon', 'unless', 'made', 'all', 'same', 'upon', 'me', 'former', \"'s\", 'latterly', 'we', 'often', 'though', 'n’t', 'at', 'even', 'whereby', 'already', 'top', 'beyond', 'full', 'above', 'six', 'whole', 'was', 'afterwards', 'mostly', 'almost', 'else', 'something', 'my', 'nothing', 'only', 'still', 'empty', 'name', '‘s', '’s', 'whither', 'anything', 'ten', 'get', 'anywhere', 'each', 'because', 'ca', 'namely', 'fifteen', 'least'}\n"
     ]
    }
   ],
   "source": [
    "print(nlp.Defaults.stop_words)"
   ]
  },
  {
   "cell_type": "code",
   "execution_count": 3,
   "metadata": {
    "colab": {
     "base_uri": "https://localhost:8080/",
     "height": 35
    },
    "id": "xo-ylHqOTiO7",
    "outputId": "d2d8acfd-9726-4a96-ceb5-2df7c211781f"
   },
   "outputs": [
    {
     "data": {
      "text/plain": [
       "326"
      ]
     },
     "execution_count": 3,
     "metadata": {},
     "output_type": "execute_result"
    }
   ],
   "source": [
    "len(nlp.Defaults.stop_words)"
   ]
  },
  {
   "cell_type": "code",
   "execution_count": 4,
   "metadata": {
    "colab": {
     "base_uri": "https://localhost:8080/",
     "height": 35
    },
    "id": "pQZccbbFTk0L",
    "outputId": "b0b97963-ca86-4993-b2fe-76a7bb0f0830"
   },
   "outputs": [
    {
     "data": {
      "text/plain": [
       "True"
      ]
     },
     "execution_count": 4,
     "metadata": {},
     "output_type": "execute_result"
    }
   ],
   "source": [
    "# is stop: Is the token part of a stop list, i.e. the most common words of the language?\n",
    "nlp.vocab['always'].is_stop"
   ]
  },
  {
   "cell_type": "code",
   "execution_count": 5,
   "metadata": {
    "colab": {
     "base_uri": "https://localhost:8080/",
     "height": 35
    },
    "id": "pGwvPQlrTyC9",
    "outputId": "221cf9e0-707d-4a81-b128-99eb1ffaa488"
   },
   "outputs": [
    {
     "data": {
      "text/plain": [
       "False"
      ]
     },
     "execution_count": 5,
     "metadata": {},
     "output_type": "execute_result"
    }
   ],
   "source": [
    "nlp.vocab['finance'].is_stop"
   ]
  },
  {
   "cell_type": "code",
   "execution_count": 6,
   "metadata": {
    "colab": {
     "base_uri": "https://localhost:8080/",
     "height": 35
    },
    "id": "7ZryPuPRT-e0",
    "outputId": "32fcfd7c-8f30-45a8-9436-85d66d5893a1"
   },
   "outputs": [
    {
     "data": {
      "text/plain": [
       "False"
      ]
     },
     "execution_count": 6,
     "metadata": {},
     "output_type": "execute_result"
    }
   ],
   "source": [
    "nlp.vocab['asdf'].is_stop"
   ]
  },
  {
   "cell_type": "code",
   "execution_count": 7,
   "metadata": {
    "id": "Hd5h5maRUFvK"
   },
   "outputs": [],
   "source": [
    "nlp.Defaults.stop_words.add('asdf') #불용어 추가됨"
   ]
  },
  {
   "cell_type": "code",
   "execution_count": 8,
   "metadata": {
    "id": "iI6pFztKUNsu"
   },
   "outputs": [],
   "source": [
    "nlp.vocab['asdf'].is_stop = True"
   ]
  },
  {
   "cell_type": "code",
   "execution_count": 9,
   "metadata": {
    "colab": {
     "base_uri": "https://localhost:8080/",
     "height": 35
    },
    "id": "FLI5dsKrUOOL",
    "outputId": "bf38aafa-ae09-4376-bade-48db70edd0fe"
   },
   "outputs": [
    {
     "data": {
      "text/plain": [
       "True"
      ]
     },
     "execution_count": 9,
     "metadata": {},
     "output_type": "execute_result"
    }
   ],
   "source": [
    "nlp.vocab['asdf'].is_stop #불용어 추가 되었나 true이면 추가되었음"
   ]
  },
  {
   "cell_type": "code",
   "execution_count": 10,
   "metadata": {
    "colab": {
     "base_uri": "https://localhost:8080/",
     "height": 35
    },
    "id": "ozngrq9jUcRX",
    "outputId": "ef2fc8ee-a7fb-4369-db27-a0ad6b80c28c"
   },
   "outputs": [
    {
     "data": {
      "text/plain": [
       "327"
      ]
     },
     "execution_count": 10,
     "metadata": {},
     "output_type": "execute_result"
    }
   ],
   "source": [
    "len(nlp.Defaults.stop_words)"
   ]
  },
  {
   "cell_type": "code",
   "execution_count": 11,
   "metadata": {
    "colab": {
     "base_uri": "https://localhost:8080/",
     "height": 35
    },
    "id": "uoe7PvJaUdO8",
    "outputId": "98dc9b1d-9318-4e01-b007-8ac860bafd1d"
   },
   "outputs": [
    {
     "data": {
      "text/plain": [
       "True"
      ]
     },
     "execution_count": 11,
     "metadata": {},
     "output_type": "execute_result"
    }
   ],
   "source": [
    "nlp.vocab['no'].is_stop"
   ]
  },
  {
   "cell_type": "code",
   "execution_count": 12,
   "metadata": {
    "id": "xwm_kPPqUmyc"
   },
   "outputs": [],
   "source": [
    "nlp.vocab['no'].is_stop = False"
   ]
  },
  {
   "cell_type": "code",
   "execution_count": 17,
   "metadata": {},
   "outputs": [
    {
     "data": {
      "text/plain": [
       "False"
      ]
     },
     "execution_count": 17,
     "metadata": {},
     "output_type": "execute_result"
    }
   ],
   "source": [
    "nlp.vocab['no'].is_stop # no 제거안됨 "
   ]
  },
  {
   "cell_type": "code",
   "execution_count": 13,
   "metadata": {
    "colab": {
     "base_uri": "https://localhost:8080/",
     "height": 55
    },
    "id": "KPGtkBBCUrYs",
    "outputId": "c426d8fd-df71-434a-b5bf-8863df44fb09"
   },
   "outputs": [
    {
     "name": "stdout",
     "output_type": "stream",
     "text": [
      "{'without', 'over', 'also', 'whatever', '‘m', 'anyhow', 'as', 'someone', 'seeming', 'its', 'moreover', 'do', 'one', \"'ve\", 'own', 'our', 'n‘t', 'further', 'third', 'really', 'everyone', 'against', 'rather', 'seemed', 'before', 'among', 'hence', 'i', 'across', 'now', 'did', 'quite', 'many', 'does', 'nowhere', 'those', 'two', 'became', 'behind', 'enough', 'more', 'any', 'twelve', 'beforehand', 'their', 'everything', 'you', 'should', 'when', 'within', '‘d', 'amongst', 'by', 'herself', 'however', 'whereafter', 'put', 'have', 'myself', 'in', 'become', 'anyway', 'first', 'up', 'give', 'this', 'a', 'others', 'so', 'using', 'alone', 'serious', 'where', \"'re\", 'eleven', 'forty', 'seem', 'hereafter', 'perhaps', 'sometime', 'them', 'until', 'three', 'asdf', 'call', 'thereupon', 'go', 'otherwise', 'whose', 'is', 'or', 'during', 'thru', 'either', 'ever', 'cannot', 'take', 'bottom', 'although', 'themselves', 'whereas', 'towards', 'and', '’ve', 'eight', 'ourselves', '’ll', 'yet', 'always', 'had', 'out', 'yourself', 'becoming', 'most', 'hundred', 'after', 'please', 'about', 'his', 'through', 'next', 'every', 'what', 'would', 'but', 'yours', \"'d\", 'doing', 'formerly', 'an', 'whence', 'toward', 'via', 'who', 'he', 'ours', '’re', 'latter', 'make', 'four', 'mine', 'well', 'several', 'it', 'which', 'along', 'again', 'must', 'they', 'used', 'meanwhile', 'nobody', 'between', '‘ve', 'say', 'since', 'beside', \"'ll\", 'done', 'not', 'wherein', 'has', 'her', 'us', 'hereby', 'never', 'much', 'another', 'of', 're', 'due', 'how', 'five', '‘ll', 'itself', 'under', 'anyone', 'then', 'here', 'can', 'whom', 'nor', 'show', 'will', 'various', 'seems', 'somehow', 'why', 'both', 'sixty', 'neither', 'elsewhere', '‘re', 'regarding', 'she', 'once', 'could', 'might', 'other', 'wherever', 'back', 'noone', 'himself', 'together', 'whether', 'been', 'no', 'less', 'there', 'keep', 'side', 'that', 'per', \"n't\", 'except', 'thus', 'below', 'herein', 'becomes', 'from', 'somewhere', 'too', 'with', 'such', 'whereupon', 'indeed', 'just', 'are', 'to', 'sometimes', 'these', 'none', 'therein', 'twenty', 'thereafter', 'thence', \"'m\", 'into', 'amount', 'besides', 'whenever', 'yourselves', 'part', 'very', 'off', 'nevertheless', 'last', 'your', 'see', 'may', '’d', 'few', 'for', 'therefore', 'am', 'onto', '’m', 'everywhere', 'nine', 'be', 'thereby', 'down', 'fifty', 'around', 'move', 'than', 'the', 'were', 'him', 'throughout', 'while', 'hers', 'being', 'whoever', 'on', 'if', 'some', 'front', 'hereupon', 'unless', 'made', 'all', 'same', 'upon', 'me', 'former', \"'s\", 'latterly', 'we', 'often', 'though', 'n’t', 'at', 'even', 'whereby', 'already', 'top', 'beyond', 'full', 'above', 'six', 'whole', 'was', 'afterwards', 'mostly', 'almost', 'else', 'something', 'my', 'nothing', 'only', 'still', 'empty', 'name', '‘s', '’s', 'whither', 'anything', 'ten', 'get', 'anywhere', 'each', 'because', 'ca', 'namely', 'fifteen', 'least'}\n"
     ]
    }
   ],
   "source": [
    "print(nlp.Defaults.stop_words)"
   ]
  },
  {
   "cell_type": "code",
   "execution_count": 14,
   "metadata": {
    "id": "wWREkPBlUvGk"
   },
   "outputs": [],
   "source": [
    "nlp.Defaults.stop_words.remove('no') #no는 remove으로 제거할 수 있음"
   ]
  },
  {
   "cell_type": "code",
   "execution_count": 18,
   "metadata": {
    "id": "KAVAQK-JU9yU"
   },
   "outputs": [],
   "source": [
    "nlp.vocab['no'].is_stop = False"
   ]
  },
  {
   "cell_type": "code",
   "execution_count": 19,
   "metadata": {},
   "outputs": [
    {
     "data": {
      "text/plain": [
       "False"
      ]
     },
     "execution_count": 19,
     "metadata": {},
     "output_type": "execute_result"
    }
   ],
   "source": [
    "nlp.vocab['no'].is_stop"
   ]
  },
  {
   "cell_type": "code",
   "execution_count": 16,
   "metadata": {
    "colab": {
     "base_uri": "https://localhost:8080/",
     "height": 55
    },
    "id": "EL5nd6vJU_us",
    "outputId": "abc9e0b7-f05b-43a6-eebe-0c0f7a388188"
   },
   "outputs": [
    {
     "name": "stdout",
     "output_type": "stream",
     "text": [
      "{'without', 'over', 'also', 'whatever', '‘m', 'anyhow', 'as', 'someone', 'seeming', 'its', 'moreover', 'do', 'one', \"'ve\", 'own', 'our', 'n‘t', 'further', 'third', 'really', 'everyone', 'against', 'rather', 'seemed', 'before', 'among', 'hence', 'i', 'across', 'now', 'did', 'quite', 'many', 'does', 'nowhere', 'those', 'two', 'became', 'behind', 'enough', 'more', 'any', 'twelve', 'beforehand', 'their', 'everything', 'you', 'should', 'when', 'within', '‘d', 'amongst', 'by', 'herself', 'however', 'whereafter', 'put', 'have', 'myself', 'in', 'become', 'anyway', 'first', 'up', 'give', 'this', 'a', 'others', 'so', 'using', 'alone', 'serious', 'where', \"'re\", 'eleven', 'forty', 'seem', 'hereafter', 'perhaps', 'sometime', 'them', 'until', 'three', 'asdf', 'call', 'thereupon', 'go', 'otherwise', 'whose', 'is', 'or', 'during', 'thru', 'either', 'ever', 'cannot', 'take', 'bottom', 'although', 'themselves', 'whereas', 'towards', 'and', '’ve', 'eight', 'ourselves', '’ll', 'yet', 'always', 'had', 'out', 'yourself', 'becoming', 'most', 'hundred', 'after', 'please', 'about', 'his', 'through', 'next', 'every', 'what', 'would', 'but', 'yours', \"'d\", 'doing', 'formerly', 'an', 'whence', 'toward', 'via', 'who', 'he', 'ours', '’re', 'latter', 'make', 'four', 'mine', 'well', 'several', 'it', 'which', 'along', 'again', 'must', 'they', 'used', 'meanwhile', 'nobody', 'between', '‘ve', 'say', 'since', 'beside', \"'ll\", 'done', 'not', 'wherein', 'has', 'her', 'us', 'hereby', 'never', 'much', 'another', 'of', 're', 'due', 'how', 'five', '‘ll', 'itself', 'under', 'anyone', 'then', 'here', 'can', 'whom', 'nor', 'show', 'will', 'various', 'seems', 'somehow', 'why', 'both', 'sixty', 'neither', 'elsewhere', '‘re', 'regarding', 'she', 'once', 'could', 'might', 'other', 'wherever', 'back', 'noone', 'himself', 'together', 'whether', 'been', 'less', 'there', 'keep', 'side', 'that', 'per', \"n't\", 'except', 'thus', 'below', 'herein', 'becomes', 'from', 'somewhere', 'too', 'with', 'such', 'whereupon', 'indeed', 'just', 'are', 'to', 'sometimes', 'these', 'none', 'therein', 'twenty', 'thereafter', 'thence', \"'m\", 'into', 'amount', 'besides', 'whenever', 'yourselves', 'part', 'very', 'off', 'nevertheless', 'last', 'your', 'see', 'may', '’d', 'few', 'for', 'therefore', 'am', 'onto', '’m', 'everywhere', 'nine', 'be', 'thereby', 'down', 'fifty', 'around', 'move', 'than', 'the', 'were', 'him', 'throughout', 'while', 'hers', 'being', 'whoever', 'on', 'if', 'some', 'front', 'hereupon', 'unless', 'made', 'all', 'same', 'upon', 'me', 'former', \"'s\", 'latterly', 'we', 'often', 'though', 'n’t', 'at', 'even', 'whereby', 'already', 'top', 'beyond', 'full', 'above', 'six', 'whole', 'was', 'afterwards', 'mostly', 'almost', 'else', 'something', 'my', 'nothing', 'only', 'still', 'empty', 'name', '‘s', '’s', 'whither', 'anything', 'ten', 'get', 'anywhere', 'each', 'because', 'ca', 'namely', 'fifteen', 'least'}\n"
     ]
    }
   ],
   "source": [
    "print(nlp.Defaults.stop_words)"
   ]
  },
  {
   "cell_type": "markdown",
   "metadata": {
    "id": "3Wsmnb24VBRL"
   },
   "source": [
    "# nltk 라이브러리로 불용어 제거\n"
   ]
  },
  {
   "cell_type": "code",
   "execution_count": 20,
   "metadata": {},
   "outputs": [],
   "source": [
    "from nltk.corpus import stopwords\n",
    "from nltk.tokenize import word_tokenize\n"
   ]
  },
  {
   "cell_type": "code",
   "execution_count": 21,
   "metadata": {},
   "outputs": [],
   "source": [
    "word = \"불용어란 자주 등장 하지만 데이터를 분석하는데 큰 의미를 갖지 않는 단어들을 뜻합니다\""
   ]
  },
  {
   "cell_type": "code",
   "execution_count": 22,
   "metadata": {},
   "outputs": [],
   "source": [
    "stop = \"자주,종종,가끔,많이\""
   ]
  },
  {
   "cell_type": "code",
   "execution_count": 23,
   "metadata": {},
   "outputs": [],
   "source": [
    "stop_list = stop.split(',')"
   ]
  },
  {
   "cell_type": "code",
   "execution_count": 24,
   "metadata": {},
   "outputs": [],
   "source": [
    "tok = word_tokenize(word)"
   ]
  },
  {
   "cell_type": "code",
   "execution_count": 25,
   "metadata": {},
   "outputs": [],
   "source": [
    "def stopword(word_tokenize): # 불용어 제거 함수\n",
    "    result = []\n",
    "    \n",
    "    for w in word_tokenize:\n",
    "        if w not in stop_list:\n",
    "            result.append(w)\n",
    "            \n",
    "    return result"
   ]
  },
  {
   "cell_type": "code",
   "execution_count": 26,
   "metadata": {},
   "outputs": [
    {
     "name": "stdout",
     "output_type": "stream",
     "text": [
      "토큰화한 문장은['불용어란', '자주', '등장', '하지만', '데이터를', '분석하는데', '큰', '의미를', '갖지', '않는', '단어들을', '뜻합니다']입니다.\n"
     ]
    }
   ],
   "source": [
    "print(\"토큰화한 문장은\"+ str(tok)+ \"입니다.\")"
   ]
  },
  {
   "cell_type": "code",
   "execution_count": 27,
   "metadata": {},
   "outputs": [
    {
     "name": "stdout",
     "output_type": "stream",
     "text": [
      "토큰화한 문장은['불용어란', '등장', '하지만', '데이터를', '분석하는데', '큰', '의미를', '갖지', '않는', '단어들을', '뜻합니다']입니다.\n"
     ]
    }
   ],
   "source": [
    "print(\"토큰화한 문장은\"+ str(stopword(tok))+ \"입니다.\")"
   ]
  }
 ],
 "metadata": {
  "colab": {
   "name": "Stop Words.ipynb",
   "provenance": []
  },
  "kernelspec": {
   "display_name": "Python 3",
   "language": "python",
   "name": "python3"
  },
  "language_info": {
   "codemirror_mode": {
    "name": "ipython",
    "version": 3
   },
   "file_extension": ".py",
   "mimetype": "text/x-python",
   "name": "python",
   "nbconvert_exporter": "python",
   "pygments_lexer": "ipython3",
   "version": "3.8.5"
  },
  "toc": {
   "base_numbering": 1,
   "nav_menu": {},
   "number_sections": true,
   "sideBar": true,
   "skip_h1_title": false,
   "title_cell": "Table of Contents",
   "title_sidebar": "Contents",
   "toc_cell": false,
   "toc_position": {},
   "toc_section_display": true,
   "toc_window_display": false
  }
 },
 "nbformat": 4,
 "nbformat_minor": 1
}
