{
 "cells": [
  {
   "cell_type": "markdown",
   "metadata": {
    "id": "3fGqwyWhn3Bj"
   },
   "source": [
    "# 1) Impport the libraries"
   ]
  },
  {
   "cell_type": "code",
   "execution_count": 1,
   "metadata": {
    "colab": {
     "base_uri": "https://localhost:8080/",
     "height": 36
    },
    "id": "MV_Fvqw2n4GG",
    "outputId": "8ecbabf0-8730-4186-d426-c9c8ffc96cfd"
   },
   "outputs": [
    {
     "name": "stdout",
     "output_type": "stream",
     "text": [
      "2.4.1\n"
     ]
    }
   ],
   "source": [
    "import tensorflow as tf\n",
    "print(tf.__version__)"
   ]
  },
  {
   "cell_type": "code",
   "execution_count": 2,
   "metadata": {},
   "outputs": [
    {
     "name": "stderr",
     "output_type": "stream",
     "text": [
      "[nltk_data] Downloading package punkt to\n",
      "[nltk_data]     C:\\Users\\MyCom\\AppData\\Roaming\\nltk_data...\n",
      "[nltk_data]   Package punkt is already up-to-date!\n"
     ]
    },
    {
     "data": {
      "text/plain": [
       "True"
      ]
     },
     "execution_count": 2,
     "metadata": {},
     "output_type": "execute_result"
    }
   ],
   "source": [
    "import nltk\n",
    "nltk.download('punkt')"
   ]
  },
  {
   "cell_type": "code",
   "execution_count": 3,
   "metadata": {
    "id": "LRLOb-Ntn4Ig"
   },
   "outputs": [],
   "source": [
    "import gensim\n",
    "from gensim.models import Word2Vec, KeyedVectors"
   ]
  },
  {
   "cell_type": "markdown",
   "metadata": {
    "id": "dum09TbwoMdd"
   },
   "source": [
    "# 2) Data Preprocessing"
   ]
  },
  {
   "cell_type": "code",
   "execution_count": null,
   "metadata": {
    "id": "IhiTDbRQoNXN"
   },
   "outputs": [],
   "source": [
    "# google pretrained model\n",
    "\n",
    "# https://www.kaggle.com/umbertogriffo/googles-trained-word2vec-model-in-python"
   ]
  },
  {
   "cell_type": "code",
   "execution_count": null,
   "metadata": {
    "id": "E5qaZvIeoNaR"
   },
   "outputs": [],
   "source": [
    "# install kaggle API\n",
    "! pip install -q kaggle"
   ]
  },
  {
   "cell_type": "code",
   "execution_count": null,
   "metadata": {
    "id": "vbCWdojhoNc5"
   },
   "outputs": [],
   "source": [
    "# create a directory as kaggle\n",
    "! mkdir -p ~/.kaggle"
   ]
  },
  {
   "cell_type": "code",
   "execution_count": null,
   "metadata": {
    "id": "qqGhLnFNoNe2"
   },
   "outputs": [],
   "source": [
    "# copy API key to kaggle directory\n",
    "! cp kaggle.json ~/.kaggle"
   ]
  },
  {
   "cell_type": "code",
   "execution_count": null,
   "metadata": {
    "id": "e9F3g_xkoNho"
   },
   "outputs": [],
   "source": [
    "# disable the API key\n",
    "! chmod 600 /root/.kaggle/kaggle.json"
   ]
  },
  {
   "cell_type": "code",
   "execution_count": null,
   "metadata": {
    "colab": {
     "base_uri": "https://localhost:8080/",
     "height": 73
    },
    "id": "4ZxBwxJXoX-4",
    "outputId": "0da4ebc4-d78e-40c0-a4c8-08a9a725d7a7"
   },
   "outputs": [
    {
     "name": "stdout",
     "output_type": "stream",
     "text": [
      "Downloading googles-trained-word2vec-model-in-python.zip to /content\n",
      "100% 3.17G/3.17G [01:03<00:00, 57.9MB/s]\n",
      "100% 3.17G/3.17G [01:03<00:00, 53.6MB/s]\n"
     ]
    }
   ],
   "source": [
    "# import the dataset\n",
    "! kaggle datasets download -d umbertogriffo/googles-trained-word2vec-model-in-python"
   ]
  },
  {
   "cell_type": "code",
   "execution_count": null,
   "metadata": {
    "colab": {
     "base_uri": "https://localhost:8080/",
     "height": 73
    },
    "id": "CY-sGCLToYBc",
    "outputId": "dd133ec6-ed2c-47dc-ccd1-04f98bb1292b"
   },
   "outputs": [
    {
     "name": "stdout",
     "output_type": "stream",
     "text": [
      "Archive:  /content/googles-trained-word2vec-model-in-python.zip\n",
      "  inflating: GoogleNews-vectors-negative300.bin  \n",
      "  inflating: GoogleNews-vectors-negative300.bin.gz  \n"
     ]
    }
   ],
   "source": [
    "# unzip the dataset\n",
    "! unzip /content/googles-trained-word2vec-model-in-python"
   ]
  },
  {
   "cell_type": "markdown",
   "metadata": {
    "id": "nXDTMbm2o2SF"
   },
   "source": [
    "# 3) Build the model"
   ]
  },
  {
   "cell_type": "code",
   "execution_count": null,
   "metadata": {
    "colab": {
     "base_uri": "https://localhost:8080/",
     "height": 75
    },
    "id": "94q1L1jCoYGo",
    "outputId": "f827012a-7d44-4f2a-87c6-db2a265fa2f7"
   },
   "outputs": [
    {
     "name": "stderr",
     "output_type": "stream",
     "text": [
      "/usr/local/lib/python3.6/dist-packages/smart_open/smart_open_lib.py:253: UserWarning: This function is deprecated, use smart_open.open instead. See the migration notes for details: https://github.com/RaRe-Technologies/smart_open/blob/master/README.rst#migrating-to-the-new-open-function\n",
      "  'See the migration notes for details: %s' % _MIGRATION_NOTES_URL\n"
     ]
    }
   ],
   "source": [
    "model = KeyedVectors.load_word2vec_format('/content/GoogleNews-vectors-negative300.bin', binary=True, limit=100000)"
   ]
  },
  {
   "cell_type": "markdown",
   "metadata": {
    "id": "Trl53YMUqBa3"
   },
   "source": [
    "# 4) Predict the output"
   ]
  },
  {
   "cell_type": "code",
   "execution_count": null,
   "metadata": {
    "colab": {
     "base_uri": "https://localhost:8080/",
     "height": 262
    },
    "id": "nIs85s2AqCZG",
    "outputId": "7c0fade4-9a1c-42c4-9690-0c096868b799"
   },
   "outputs": [
    {
     "name": "stderr",
     "output_type": "stream",
     "text": [
      "/usr/local/lib/python3.6/dist-packages/gensim/matutils.py:737: FutureWarning: Conversion of the second argument of issubdtype from `int` to `np.signedinteger` is deprecated. In future, it will be treated as `np.int64 == np.dtype(int).type`.\n",
      "  if np.issubdtype(vec.dtype, np.int):\n"
     ]
    },
    {
     "data": {
      "text/plain": [
       "[('woman', 0.7664012908935547),\n",
       " ('boy', 0.6824870109558105),\n",
       " ('teenager', 0.6586930155754089),\n",
       " ('teenage_girl', 0.6147903800010681),\n",
       " ('girl', 0.5921714305877686),\n",
       " ('robber', 0.5585119128227234),\n",
       " ('teen_ager', 0.5549196600914001),\n",
       " ('men', 0.5489763021469116),\n",
       " ('guy', 0.5420035123825073),\n",
       " ('person', 0.5342026352882385)]"
      ]
     },
     "execution_count": 12,
     "metadata": {
      "tags": []
     },
     "output_type": "execute_result"
    }
   ],
   "source": [
    "# find 10 closest words in the vector space that we have created\n",
    "model.most_similar('man')"
   ]
  },
  {
   "cell_type": "code",
   "execution_count": null,
   "metadata": {
    "colab": {
     "base_uri": "https://localhost:8080/",
     "height": 36
    },
    "id": "e3mnVjCCqCbw",
    "outputId": "d4add3f6-04fc-4ea3-b08b-b8dc8528a178"
   },
   "outputs": [
    {
     "data": {
      "text/plain": [
       "300"
      ]
     },
     "execution_count": 11,
     "metadata": {
      "tags": []
     },
     "output_type": "execute_result"
    }
   ],
   "source": [
    "# see the vector\n",
    "len(model['man'])\n",
    "\n",
    "# so this is how man is represented in our vector space"
   ]
  },
  {
   "cell_type": "code",
   "execution_count": null,
   "metadata": {
    "colab": {
     "base_uri": "https://localhost:8080/",
     "height": 262
    },
    "id": "zjBCVKGCqCe8",
    "outputId": "ca308487-039a-49d5-fd35-53838e295bbf"
   },
   "outputs": [
    {
     "name": "stderr",
     "output_type": "stream",
     "text": [
      "/usr/local/lib/python3.6/dist-packages/gensim/matutils.py:737: FutureWarning: Conversion of the second argument of issubdtype from `int` to `np.signedinteger` is deprecated. In future, it will be treated as `np.int64 == np.dtype(int).type`.\n",
      "  if np.issubdtype(vec.dtype, np.int):\n"
     ]
    },
    {
     "data": {
      "text/plain": [
       "[('king', 0.6478992104530334),\n",
       " ('queen', 0.5354937314987183),\n",
       " ('women', 0.5233659148216248),\n",
       " ('kings', 0.5162314176559448),\n",
       " ('queens', 0.499536395072937),\n",
       " ('princes', 0.46233272552490234),\n",
       " ('monarch', 0.4528029263019562),\n",
       " ('monarchy', 0.4293174147605896),\n",
       " ('crown_prince', 0.42302513122558594),\n",
       " ('womens', 0.41756653785705566)]"
      ]
     },
     "execution_count": 13,
     "metadata": {
      "tags": []
     },
     "output_type": "execute_result"
    }
   ],
   "source": [
    "# let us try the famous relationship\n",
    "vec = model['king'] - model['man'] + model['women']\n",
    "model.most_similar([vec])"
   ]
  },
  {
   "cell_type": "code",
   "execution_count": null,
   "metadata": {
    "colab": {
     "base_uri": "https://localhost:8080/",
     "height": 262
    },
    "id": "H-150DnQqChB",
    "outputId": "a18d12aa-f23f-4bd5-8dd3-5fb8e49ff0b3"
   },
   "outputs": [
    {
     "name": "stderr",
     "output_type": "stream",
     "text": [
      "/usr/local/lib/python3.6/dist-packages/gensim/matutils.py:737: FutureWarning: Conversion of the second argument of issubdtype from `int` to `np.signedinteger` is deprecated. In future, it will be treated as `np.int64 == np.dtype(int).type`.\n",
      "  if np.issubdtype(vec.dtype, np.int):\n"
     ]
    },
    {
     "data": {
      "text/plain": [
       "[('France', 0.7724405527114868),\n",
       " ('Paris', 0.6798242926597595),\n",
       " ('Belgium', 0.598486065864563),\n",
       " ('Germany', 0.5652832984924316),\n",
       " ('Spain', 0.550815761089325),\n",
       " ('Italy', 0.5462925434112549),\n",
       " ('Marseille', 0.5372347831726074),\n",
       " ('Switzerland', 0.5364958047866821),\n",
       " ('French', 0.5346114039421082),\n",
       " ('Morocco', 0.5051252841949463)]"
      ]
     },
     "execution_count": 14,
     "metadata": {
      "tags": []
     },
     "output_type": "execute_result"
    }
   ],
   "source": [
    "# Relationship\n",
    "vec = model['Germany'] - model['Berlin'] + model['Paris']\n",
    "model.most_similar([vec])"
   ]
  },
  {
   "cell_type": "code",
   "execution_count": null,
   "metadata": {
    "colab": {
     "base_uri": "https://localhost:8080/",
     "height": 262
    },
    "id": "gQ-9rTIwqCjW",
    "outputId": "2487edbd-c845-4999-92ce-39f125e49d92"
   },
   "outputs": [
    {
     "name": "stderr",
     "output_type": "stream",
     "text": [
      "/usr/local/lib/python3.6/dist-packages/gensim/matutils.py:737: FutureWarning: Conversion of the second argument of issubdtype from `int` to `np.signedinteger` is deprecated. In future, it will be treated as `np.int64 == np.dtype(int).type`.\n",
      "  if np.issubdtype(vec.dtype, np.int):\n"
     ]
    },
    {
     "data": {
      "text/plain": [
       "[('Messi', 0.7382575869560242),\n",
       " ('Sehwag', 0.6777455806732178),\n",
       " ('Tendulkar', 0.6748222708702087),\n",
       " ('Xavi', 0.6610832810401917),\n",
       " ('Dravid', 0.6569646596908569),\n",
       " ('Dhoni', 0.6550688743591309),\n",
       " ('Lionel_Messi', 0.6407608985900879),\n",
       " ('Forlan', 0.640610933303833),\n",
       " ('Yuvraj', 0.6390379071235657),\n",
       " ('Ponting', 0.6390198469161987)]"
      ]
     },
     "execution_count": 15,
     "metadata": {
      "tags": []
     },
     "output_type": "execute_result"
    }
   ],
   "source": [
    "# Relationship\n",
    "\n",
    "vec = model['Messi'] - model['Football'] + model['Cricket']\n",
    "model.most_similar([vec])"
   ]
  }
 ],
 "metadata": {
  "colab": {
   "collapsed_sections": [],
   "name": "Use pretrained model for Embeddings.ipynb",
   "provenance": []
  },
  "kernelspec": {
   "display_name": "Python 3",
   "language": "python",
   "name": "python3"
  },
  "language_info": {
   "codemirror_mode": {
    "name": "ipython",
    "version": 3
   },
   "file_extension": ".py",
   "mimetype": "text/x-python",
   "name": "python",
   "nbconvert_exporter": "python",
   "pygments_lexer": "ipython3",
   "version": "3.8.5"
  },
  "toc": {
   "base_numbering": 1,
   "nav_menu": {},
   "number_sections": true,
   "sideBar": true,
   "skip_h1_title": false,
   "title_cell": "Table of Contents",
   "title_sidebar": "Contents",
   "toc_cell": false,
   "toc_position": {},
   "toc_section_display": true,
   "toc_window_display": false
  }
 },
 "nbformat": 4,
 "nbformat_minor": 1
}
