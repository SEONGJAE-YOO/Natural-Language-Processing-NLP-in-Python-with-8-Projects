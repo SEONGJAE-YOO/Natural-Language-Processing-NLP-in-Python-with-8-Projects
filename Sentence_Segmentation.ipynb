{
 "cells": [
  {
   "cell_type": "markdown",
   "metadata": {
    "id": "cEsIFc6jLqQs"
   },
   "source": [
    "## Sentence Segmentation"
   ]
  },
  {
   "cell_type": "markdown",
   "metadata": {},
   "source": [
    "A Doc object’s sentences are available via the Doc.sents property. To view a Doc’s sentences, you can iterate over the Doc.sents, a generator that yields Span objects. You can check whether a Doc has sentence boundaries by calling Doc.has_annotation with the attribute name \"SENT_START\".\n",
    "\n",
    "Doc 개체의 문장은 Doc.sents 속성을 통해 사용할 수 있습니다. Doc의 문장을 보려면 Span 개체를 생성하는 생성기인 Doc.sents를 반복할 수 있습니다. 속성 이름이 \"SENT_START\"인 Doc.has_annotation을 호출하여 문서에 문장 경계가 있는지 확인할 수 있습니다."
   ]
  },
  {
   "cell_type": "code",
   "execution_count": 1,
   "metadata": {},
   "outputs": [
    {
     "name": "stdout",
     "output_type": "stream",
     "text": [
      "This is a sentence.\n",
      "This is another sentence.\n"
     ]
    }
   ],
   "source": [
    "# 예제1 \n",
    "import spacy\n",
    "\n",
    "nlp = spacy.load(\"en_core_web_sm\")\n",
    "doc = nlp(\"This is a sentence. This is another sentence.\")\n",
    "assert doc.has_annotation(\"SENT_START\")\n",
    "for sent in doc.sents:\n",
    "    print(sent.text)"
   ]
  },
  {
   "cell_type": "code",
   "execution_count": 2,
   "metadata": {},
   "outputs": [],
   "source": [
    "#예제2"
   ]
  },
  {
   "cell_type": "code",
   "execution_count": 3,
   "metadata": {
    "id": "CNLicrVmLpa4"
   },
   "outputs": [],
   "source": [
    "s1 = \"This is a sentence. This is second sentence. This is last sentence.\"\n",
    "s2 = \"This is a sentence; This is second sentence; This is last sentence.\""
   ]
  },
  {
   "cell_type": "code",
   "execution_count": 4,
   "metadata": {
    "id": "m8r4DnT-LyJh"
   },
   "outputs": [],
   "source": [
    "import spacy\n",
    "nlp = spacy.load(name='en_core_web_sm')"
   ]
  },
  {
   "cell_type": "code",
   "execution_count": 5,
   "metadata": {
    "id": "repLpIXSMOXo"
   },
   "outputs": [],
   "source": [
    "doc1 = nlp(s1)"
   ]
  },
  {
   "cell_type": "markdown",
   "metadata": {},
   "source": [
    "#  한문장 안에 .으로 끝나는 문장을 여러개 출력해준다"
   ]
  },
  {
   "cell_type": "code",
   "execution_count": 6,
   "metadata": {
    "colab": {
     "base_uri": "https://localhost:8080/",
     "height": 73
    },
    "id": "klxUo3x9MOvm",
    "outputId": "ef330d8e-5a2a-438b-bc3b-95a08e5b007a"
   },
   "outputs": [
    {
     "name": "stdout",
     "output_type": "stream",
     "text": [
      "This is a sentence.\n",
      "This is second sentence.\n",
      "This is last sentence.\n"
     ]
    }
   ],
   "source": [
    "for sent in doc1.sents:\n",
    "  print(sent.text)"
   ]
  },
  {
   "cell_type": "code",
   "execution_count": 7,
   "metadata": {
    "id": "0wWvSc6JMOy0"
   },
   "outputs": [],
   "source": [
    "s3 = \"This is a sentence. This is second U.K. sentence. This is last sentence.\""
   ]
  },
  {
   "cell_type": "code",
   "execution_count": 8,
   "metadata": {
    "colab": {
     "base_uri": "https://localhost:8080/",
     "height": 73
    },
    "id": "9sfziO2IMO1j",
    "outputId": "6074ca2b-4ca8-49d8-a3d1-6ff741150958"
   },
   "outputs": [
    {
     "name": "stdout",
     "output_type": "stream",
     "text": [
      "This is a sentence.\n",
      "This is second U.K. sentence.\n",
      "This is last sentence.\n"
     ]
    }
   ],
   "source": [
    "doc3 = nlp(s3)\n",
    "for sent in doc3.sents:\n",
    "  print(sent.text)"
   ]
  },
  {
   "cell_type": "code",
   "execution_count": 9,
   "metadata": {
    "colab": {
     "base_uri": "https://localhost:8080/",
     "height": 36
    },
    "id": "bIhi8b9NPIQJ",
    "outputId": "80eb23e8-4fa9-496e-cbbe-df0630821af6"
   },
   "outputs": [
    {
     "name": "stdout",
     "output_type": "stream",
     "text": [
      "This is a sentence; This is second sentence; This is last sentence.\n"
     ]
    }
   ],
   "source": [
    "doc2 = nlp(s2)\n",
    "for sent in doc2.sents:\n",
    "  print(sent.text)"
   ]
  },
  {
   "cell_type": "code",
   "execution_count": 10,
   "metadata": {
    "colab": {
     "base_uri": "https://localhost:8080/",
     "height": 36
    },
    "id": "IHa__khjPdiH",
    "outputId": "83d73445-1045-4287-f5bb-57ff34f20324"
   },
   "outputs": [
    {
     "data": {
      "text/plain": [
       "'This is a sentence; This is second sentence; This is last sentence.'"
      ]
     },
     "execution_count": 10,
     "metadata": {},
     "output_type": "execute_result"
    }
   ],
   "source": [
    "s2"
   ]
  },
  {
   "cell_type": "markdown",
   "metadata": {},
   "source": [
    "# 'This is a sentence; This is second sentence; This is last sentence.' 문장을 어떻게 여러개의 문장들로 나눌수 있을까?\n",
    "\n",
    "# 참고사이트-[https://johnnn.tech/q/using-pos-and-punct-tokens-in-custom-sentence-boundaries-in-spacy/](https://johnnn.tech/q/using-pos-and-punct-tokens-in-custom-sentence-boundaries-in-spacy/)"
   ]
  },
  {
   "cell_type": "code",
   "execution_count": 35,
   "metadata": {},
   "outputs": [],
   "source": [
    "from spacy.language import Language"
   ]
  },
  {
   "cell_type": "code",
   "execution_count": 53,
   "metadata": {},
   "outputs": [],
   "source": [
    "\n",
    "custom_EOS = ['.', ',', '!', '!',';']\n",
    "custom_conj = ['then', 'so']"
   ]
  },
  {
   "cell_type": "code",
   "execution_count": 40,
   "metadata": {},
   "outputs": [],
   "source": [
    "@Language.component(\"set_custom_boundaries\")\n",
    "def set_custom_boundaries(doc):\n",
    "    for token in doc[:-1]:\n",
    "        if token.text in custom_EOS:\n",
    "            doc[token.i + 1].is_sent_start = True\n",
    "        if token.text in custom_conj:\n",
    "            doc[token.i].is_sent_start = True\n",
    "    return doc"
   ]
  },
  {
   "cell_type": "code",
   "execution_count": 55,
   "metadata": {},
   "outputs": [],
   "source": [
    "def set_sentence_breaks(doc):\n",
    "    for token in doc:\n",
    "        if token == \"SCONJ\": #SCONJ: subordinating conjunction\n",
    "            doc[token.i].is_sent_start = True\n"
   ]
  },
  {
   "cell_type": "code",
   "execution_count": 46,
   "metadata": {},
   "outputs": [
    {
     "name": "stdout",
     "output_type": "stream",
     "text": [
      "Sentences: ['In the add user use case,', 'we need to consider speed and reliability,', 'so use of a relational DB would be better than using SQLite.', 'Though it may take extra effort to convert @Bot']\n"
     ]
    }
   ],
   "source": [
    "def main():\n",
    "    text = \"In the add user use case, we need to consider speed and reliability, so use of a relational DB would be better than using SQLite. Though it may take extra effort to convert @Bot\"\n",
    "\n",
    "    nlp = spacy.load(\"en_core_web_sm\")\n",
    "    nlp.add_pipe(\"set_custom_boundaries\", before=\"parser\")\n",
    "    doc = nlp(text)\n",
    "    # for token in doc:\n",
    "    #     print(token.pos_)\n",
    "\n",
    "    print(\"Sentences:\", [sent.text for sent in doc.sents])\n",
    "\n",
    "\n",
    "if __name__ == \"__main__\":\n",
    "    main()\n"
   ]
  },
  {
   "cell_type": "markdown",
   "metadata": {},
   "source": [
    "- 참고 사이트에 나와있는 방식대로 적용하여 ['This is a sentence;', 'This is second sentence;', 'This is last sentence.'] 문장들로 분리했음"
   ]
  },
  {
   "cell_type": "code",
   "execution_count": 54,
   "metadata": {},
   "outputs": [
    {
     "name": "stdout",
     "output_type": "stream",
     "text": [
      "Sentences: ['This is a sentence;', 'This is second sentence;', 'This is last sentence.']\n"
     ]
    }
   ],
   "source": [
    "def main():\n",
    "    text = s2\n",
    "    nlp = spacy.load(\"en_core_web_sm\")\n",
    "    nlp.add_pipe(\"set_custom_boundaries\", before=\"parser\")\n",
    "    doc = nlp(text)\n",
    "    # for token in doc:\n",
    "    #     print(token.pos_)\n",
    "\n",
    "    print(\"Sentences:\", [sent.text for sent in doc.sents])\n",
    "\n",
    "\n",
    "if __name__ == \"__main__\":\n",
    "    main()\n"
   ]
  }
 ],
 "metadata": {
  "colab": {
   "name": "Sentence Segmentation.ipynb",
   "provenance": []
  },
  "kernelspec": {
   "display_name": "Python [conda env:text_analysis]",
   "language": "python",
   "name": "conda-env-text_analysis-py"
  },
  "language_info": {
   "codemirror_mode": {
    "name": "ipython",
    "version": 3
   },
   "file_extension": ".py",
   "mimetype": "text/x-python",
   "name": "python",
   "nbconvert_exporter": "python",
   "pygments_lexer": "ipython3",
   "version": "3.6.13"
  },
  "toc": {
   "base_numbering": 1,
   "nav_menu": {},
   "number_sections": true,
   "sideBar": true,
   "skip_h1_title": false,
   "title_cell": "Table of Contents",
   "title_sidebar": "Contents",
   "toc_cell": false,
   "toc_position": {},
   "toc_section_display": true,
   "toc_window_display": false
  }
 },
 "nbformat": 4,
 "nbformat_minor": 1
}
