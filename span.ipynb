{
 "cells": [
  {
   "cell_type": "markdown",
   "id": "d6a71727",
   "metadata": {},
   "source": [
    "# span 클래스란 무엇일까?\n",
    "\n",
    "# 참고사이트- [https://spacy.io/api/span](https://spacy.io/api/span)\n",
    "\n",
    "A slice from a Doc object.\n",
    "\n"
   ]
  },
  {
   "cell_type": "markdown",
   "id": "8186c756",
   "metadata": {},
   "source": [
    "# Span.__init__\n",
    "\n",
    "Create a Span object from the slice doc[start : end]."
   ]
  },
  {
   "cell_type": "code",
   "execution_count": 5,
   "id": "ffbc5f45",
   "metadata": {},
   "outputs": [],
   "source": [
    "import spacy\n",
    "nlp = spacy.load(name='en_core_web_sm')"
   ]
  },
  {
   "cell_type": "code",
   "execution_count": 8,
   "id": "49de6174",
   "metadata": {},
   "outputs": [],
   "source": [
    "doc = nlp(\"Give it back! He pleaded.\")\n",
    "span = doc[1:4]\n",
    "assert [t.text for t in span] ==  [\"it\", \"back\", \"!\"]\n"
   ]
  },
  {
   "cell_type": "markdown",
   "id": "c0b4a83f",
   "metadata": {},
   "source": [
    "# span.set_extension\n",
    "\n",
    "Define a custom attribute on the Span which becomes available via Span._. For details, see the documentation on custom attributes.\n",
    "\n",
    "Span._을 통해 사용할 수 있는 Span에서 사용자 지정 속성을 정의합니다. 자세한 내용은 사용자 지정 속성에 대한 설명서를 참조하세요.\n"
   ]
  },
  {
   "cell_type": "code",
   "execution_count": 2,
   "id": "9a4e6b87",
   "metadata": {},
   "outputs": [],
   "source": [
    "import spacy\n",
    "nlp = spacy.load(name='en_core_web_sm')"
   ]
  },
  {
   "cell_type": "code",
   "execution_count": 3,
   "id": "2476d0a8",
   "metadata": {},
   "outputs": [
    {
     "ename": "ValueError",
     "evalue": "[E090] Extension 'has_city' already exists on Span. To overwrite the existing extension, set `force=True` on `Span.set_extension`.",
     "output_type": "error",
     "traceback": [
      "\u001b[1;31m---------------------------------------------------------------------------\u001b[0m",
      "\u001b[1;31mValueError\u001b[0m                                Traceback (most recent call last)",
      "\u001b[1;32m<ipython-input-3-23693f95b0a0>\u001b[0m in \u001b[0;36m<module>\u001b[1;34m\u001b[0m\n\u001b[0;32m      1\u001b[0m \u001b[1;32mfrom\u001b[0m \u001b[0mspacy\u001b[0m\u001b[1;33m.\u001b[0m\u001b[0mtokens\u001b[0m \u001b[1;32mimport\u001b[0m \u001b[0mSpan\u001b[0m\u001b[1;33m\u001b[0m\u001b[1;33m\u001b[0m\u001b[0m\n\u001b[0;32m      2\u001b[0m \u001b[0mcity_getter\u001b[0m \u001b[1;33m=\u001b[0m \u001b[1;32mlambda\u001b[0m \u001b[0mspan\u001b[0m\u001b[1;33m:\u001b[0m \u001b[0many\u001b[0m\u001b[1;33m(\u001b[0m\u001b[0mcity\u001b[0m \u001b[1;32min\u001b[0m \u001b[0mspan\u001b[0m\u001b[1;33m.\u001b[0m\u001b[0mtext\u001b[0m \u001b[1;32mfor\u001b[0m \u001b[0mcity\u001b[0m \u001b[1;32min\u001b[0m \u001b[1;33m(\u001b[0m\u001b[1;34m\"New York\"\u001b[0m\u001b[1;33m,\u001b[0m \u001b[1;34m\"Paris\"\u001b[0m\u001b[1;33m,\u001b[0m \u001b[1;34m\"Berlin\"\u001b[0m\u001b[1;33m)\u001b[0m\u001b[1;33m)\u001b[0m\u001b[1;33m\u001b[0m\u001b[1;33m\u001b[0m\u001b[0m\n\u001b[1;32m----> 3\u001b[1;33m \u001b[0mSpan\u001b[0m\u001b[1;33m.\u001b[0m\u001b[0mset_extension\u001b[0m\u001b[1;33m(\u001b[0m\u001b[1;34m\"has_city\"\u001b[0m\u001b[1;33m,\u001b[0m \u001b[0mgetter\u001b[0m\u001b[1;33m=\u001b[0m\u001b[0mcity_getter\u001b[0m\u001b[1;33m)\u001b[0m\u001b[1;33m\u001b[0m\u001b[1;33m\u001b[0m\u001b[0m\n\u001b[0m\u001b[0;32m      4\u001b[0m \u001b[0mdoc\u001b[0m \u001b[1;33m=\u001b[0m \u001b[0mnlp\u001b[0m\u001b[1;33m(\u001b[0m\u001b[1;34m\"I like New York in Autumn\"\u001b[0m\u001b[1;33m)\u001b[0m\u001b[1;33m\u001b[0m\u001b[1;33m\u001b[0m\u001b[0m\n\u001b[0;32m      5\u001b[0m \u001b[1;32massert\u001b[0m \u001b[0mdoc\u001b[0m\u001b[1;33m[\u001b[0m\u001b[1;36m1\u001b[0m\u001b[1;33m:\u001b[0m\u001b[1;36m4\u001b[0m\u001b[1;33m]\u001b[0m\u001b[1;33m.\u001b[0m\u001b[0m_\u001b[0m\u001b[1;33m.\u001b[0m\u001b[0mhas_city\u001b[0m\u001b[1;33m\u001b[0m\u001b[1;33m\u001b[0m\u001b[0m\n",
      "\u001b[1;32m~\\anaconda3\\envs\\text_analysis\\lib\\site-packages\\spacy\\tokens\\span.pyx\u001b[0m in \u001b[0;36mspacy.tokens.span.Span.set_extension\u001b[1;34m()\u001b[0m\n",
      "\u001b[1;31mValueError\u001b[0m: [E090] Extension 'has_city' already exists on Span. To overwrite the existing extension, set `force=True` on `Span.set_extension`."
     ]
    }
   ],
   "source": [
    "from spacy.tokens import Span\n",
    "city_getter = lambda span: any(city in span.text for city in (\"New York\", \"Paris\", \"Berlin\"))\n",
    "Span.set_extension(\"has_city\", getter=city_getter)\n",
    "doc = nlp(\"I like New York in Autumn\")\n",
    "assert doc[1:4]._.has_city"
   ]
  }
 ],
 "metadata": {
  "kernelspec": {
   "display_name": "Python [conda env:text_analysis]",
   "language": "python",
   "name": "conda-env-text_analysis-py"
  },
  "language_info": {
   "codemirror_mode": {
    "name": "ipython",
    "version": 3
   },
   "file_extension": ".py",
   "mimetype": "text/x-python",
   "name": "python",
   "nbconvert_exporter": "python",
   "pygments_lexer": "ipython3",
   "version": "3.6.13"
  },
  "toc": {
   "base_numbering": 1,
   "nav_menu": {},
   "number_sections": true,
   "sideBar": true,
   "skip_h1_title": false,
   "title_cell": "Table of Contents",
   "title_sidebar": "Contents",
   "toc_cell": false,
   "toc_position": {},
   "toc_section_display": true,
   "toc_window_display": false
  }
 },
 "nbformat": 4,
 "nbformat_minor": 5
}
