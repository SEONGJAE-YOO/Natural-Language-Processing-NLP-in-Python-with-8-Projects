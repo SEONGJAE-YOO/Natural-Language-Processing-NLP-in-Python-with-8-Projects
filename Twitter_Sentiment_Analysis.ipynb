{
 "cells": [
  {
   "cell_type": "markdown",
   "metadata": {
    "id": "91XYD_Kmq7oK"
   },
   "source": [
    "## Twitter Sentiment Analysis"
   ]
  },
  {
   "cell_type": "markdown",
   "metadata": {
    "id": "ttgBWsV3rB5A"
   },
   "source": [
    "### 1) Importing the Libraries"
   ]
  },
  {
   "cell_type": "markdown",
   "metadata": {
    "id": "1MXcpqMry6R7"
   },
   "source": [
    "Access token :\n",
    "94964624-Ett186vBSqeroVnXLbdQgFf3CdrTfxWac38XRy7tX\n",
    "\n",
    "Access token secret :\n",
    "qUSwa9G2yC1E8gsnHfHgB7Zp7gMItaYUdqSay0tLIsRsT\n",
    "\n",
    "\n",
    "API key: KDje8sCVZGqoYy42NVdzki2uf\n",
    "\n",
    "API secret key: Yh0lvVcYpC4QxjX16n7gMhP88v6E9cFxDDugkpZyhrsE0F5SGk"
   ]
  },
  {
   "cell_type": "code",
   "execution_count": null,
   "metadata": {
    "id": "R_gCK_gVzXBo"
   },
   "outputs": [],
   "source": [
    "from textblob import TextBlob"
   ]
  },
  {
   "cell_type": "code",
   "execution_count": null,
   "metadata": {
    "id": "oT1WHFqizXFY"
   },
   "outputs": [],
   "source": [
    "import tweepy"
   ]
  },
  {
   "cell_type": "code",
   "execution_count": null,
   "metadata": {
    "id": "1iRVD71dzXI3"
   },
   "outputs": [],
   "source": [
    "import matplotlib.pyplot as plt"
   ]
  },
  {
   "cell_type": "markdown",
   "metadata": {
    "id": "Vv5oDol8rCDu"
   },
   "source": [
    "### 2) Connecting with the Twitter API"
   ]
  },
  {
   "cell_type": "code",
   "execution_count": null,
   "metadata": {
    "id": "UMhPUNBiz_y6"
   },
   "outputs": [],
   "source": [
    "consumer_key = \"KDje8sCVZGqoYy42NVdzki2uf\"\n",
    "consumer_secret = \"Yh0lvVcYpC4QxjX16n7gMhP88v6E9cFxDDugkpZyhrsE0F5SGk\"\n",
    "access_token = \"94964624-Ett186vBSqeroVnXLbdQgFf3CdrTfxWac38XRy7tX\"\n",
    "access_token_secret = \"qUSwa9G2yC1E8gsnHfHgB7Zp7gMItaYUdqSay0tLIsRsT\""
   ]
  },
  {
   "cell_type": "code",
   "execution_count": null,
   "metadata": {
    "id": "-H9GH_-I0AEZ"
   },
   "outputs": [],
   "source": [
    "auth = tweepy.OAuthHandler(consumer_key, consumer_secret)\n",
    "auth.set_access_token(access_token, access_token_secret)\n",
    "\n",
    "api = tweepy.API(auth)"
   ]
  },
  {
   "cell_type": "code",
   "execution_count": null,
   "metadata": {
    "colab": {
     "base_uri": "https://localhost:8080/",
     "height": 36
    },
    "id": "q5kLx0Qc0eX4",
    "outputId": "bd163c34-4995-46d8-935a-a9bbc3aa5257"
   },
   "outputs": [
    {
     "data": {
      "text/plain": [
       "tweepy.api.API"
      ]
     },
     "execution_count": 6,
     "metadata": {
      "tags": []
     },
     "output_type": "execute_result"
    }
   ],
   "source": [
    "type(api)"
   ]
  },
  {
   "cell_type": "code",
   "execution_count": null,
   "metadata": {
    "id": "Xjs1CDac0_vM"
   },
   "outputs": [],
   "source": [
    "search_term = \"Money Heist\"\n",
    "no_of_tweets = 1000"
   ]
  },
  {
   "cell_type": "code",
   "execution_count": null,
   "metadata": {
    "id": "KK3-IDS70_yr"
   },
   "outputs": [],
   "source": [
    "tweets = tweepy.Cursor(api.search, q = search_term).items(no_of_tweets)"
   ]
  },
  {
   "cell_type": "code",
   "execution_count": null,
   "metadata": {
    "colab": {
     "base_uri": "https://localhost:8080/",
     "height": 36
    },
    "id": "xhmelL660_3J",
    "outputId": "50a731c6-b015-4228-a216-0a6df5ddf742"
   },
   "outputs": [
    {
     "name": "stdout",
     "output_type": "stream",
     "text": [
      "<tweepy.cursor.ItemIterator object at 0x7fd2f4853208>\n"
     ]
    }
   ],
   "source": [
    "print(tweets)"
   ]
  },
  {
   "cell_type": "code",
   "execution_count": null,
   "metadata": {
    "id": "OQnK9DU80elr"
   },
   "outputs": [],
   "source": []
  },
  {
   "cell_type": "markdown",
   "metadata": {
    "id": "HWPV0bDIrCL-"
   },
   "source": [
    "### 3) Understanding the working of TextBlob"
   ]
  },
  {
   "cell_type": "code",
   "execution_count": null,
   "metadata": {
    "id": "SM0WJOjs1trj"
   },
   "outputs": [],
   "source": [
    "a = \"I am a bad Cricket player\"\n",
    "b = \"I am a good Cricket player\"\n",
    "c = \"I am a Cricket player\""
   ]
  },
  {
   "cell_type": "code",
   "execution_count": null,
   "metadata": {
    "colab": {
     "base_uri": "https://localhost:8080/",
     "height": 36
    },
    "id": "lhwzMm1Q1tvO",
    "outputId": "0eaf24b0-4987-4c63-fc5a-4bc6ad5a9b7c"
   },
   "outputs": [
    {
     "data": {
      "text/plain": [
       "-0.6999999999999998"
      ]
     },
     "execution_count": 13,
     "metadata": {
      "tags": []
     },
     "output_type": "execute_result"
    }
   ],
   "source": [
    "TextBlob(a).sentiment.polarity"
   ]
  },
  {
   "cell_type": "code",
   "execution_count": null,
   "metadata": {
    "colab": {
     "base_uri": "https://localhost:8080/",
     "height": 36
    },
    "id": "EaBAwUNw1txo",
    "outputId": "ae02e62c-2907-4903-d501-2e694547cca2"
   },
   "outputs": [
    {
     "data": {
      "text/plain": [
       "0.7"
      ]
     },
     "execution_count": 14,
     "metadata": {
      "tags": []
     },
     "output_type": "execute_result"
    }
   ],
   "source": [
    "TextBlob(b).sentiment.polarity"
   ]
  },
  {
   "cell_type": "code",
   "execution_count": null,
   "metadata": {
    "colab": {
     "base_uri": "https://localhost:8080/",
     "height": 36
    },
    "id": "ZRmuGbvc1t1e",
    "outputId": "2707ae98-f33f-40cb-ea78-8ef5c9acc79f"
   },
   "outputs": [
    {
     "data": {
      "text/plain": [
       "0.0"
      ]
     },
     "execution_count": 15,
     "metadata": {
      "tags": []
     },
     "output_type": "execute_result"
    }
   ],
   "source": [
    "TextBlob(c).sentiment.polarity"
   ]
  },
  {
   "cell_type": "code",
   "execution_count": null,
   "metadata": {
    "id": "dJwBp1qj1t3x"
   },
   "outputs": [],
   "source": []
  },
  {
   "cell_type": "markdown",
   "metadata": {
    "id": "BxbtDIpMrCQP"
   },
   "source": [
    "### 4) Iterate the data and convert the result in percentage"
   ]
  },
  {
   "cell_type": "code",
   "execution_count": null,
   "metadata": {
    "id": "LAYP5x5I2i_5"
   },
   "outputs": [],
   "source": [
    "positive = 0\n",
    "negative = 0\n",
    "neutral = 0\n",
    "polarity = 0"
   ]
  },
  {
   "cell_type": "code",
   "execution_count": null,
   "metadata": {
    "id": "e3PuiQ8C2jDS"
   },
   "outputs": [],
   "source": [
    "for tweet in tweets:\n",
    "  analysis = TextBlob(tweet.text)\n",
    "  polarity += analysis.sentiment.polarity\n",
    "\n",
    "  if(analysis.sentiment.polarity == 0):\n",
    "       neutral += 1\n",
    "       \n",
    "  elif(analysis.sentiment.polarity < 0.00):\n",
    "       negative += 1\n",
    "\n",
    "  elif(analysis.sentiment.polarity > 0.00):\n",
    "       positive += 1\n"
   ]
  },
  {
   "cell_type": "code",
   "execution_count": null,
   "metadata": {
    "colab": {
     "base_uri": "https://localhost:8080/",
     "height": 36
    },
    "id": "0RJqhQh12jJJ",
    "outputId": "d02235e1-62c5-4a02-be9b-91318c2884a5"
   },
   "outputs": [
    {
     "data": {
      "text/plain": [
       "247"
      ]
     },
     "execution_count": 24,
     "metadata": {
      "tags": []
     },
     "output_type": "execute_result"
    }
   ],
   "source": [
    "positive"
   ]
  },
  {
   "cell_type": "code",
   "execution_count": null,
   "metadata": {
    "colab": {
     "base_uri": "https://localhost:8080/",
     "height": 36
    },
    "id": "ixGXDl0y2jMQ",
    "outputId": "3ffc99a3-bb9d-44db-9cc8-cf3f36a9899d"
   },
   "outputs": [
    {
     "data": {
      "text/plain": [
       "176"
      ]
     },
     "execution_count": 25,
     "metadata": {
      "tags": []
     },
     "output_type": "execute_result"
    }
   ],
   "source": [
    "negative"
   ]
  },
  {
   "cell_type": "code",
   "execution_count": null,
   "metadata": {
    "colab": {
     "base_uri": "https://localhost:8080/",
     "height": 36
    },
    "id": "AXatVO8a2jSZ",
    "outputId": "403c2a52-1f99-4b07-8c83-ec39fa867b6b"
   },
   "outputs": [
    {
     "data": {
      "text/plain": [
       "577"
      ]
     },
     "execution_count": 26,
     "metadata": {
      "tags": []
     },
     "output_type": "execute_result"
    }
   ],
   "source": [
    "neutral"
   ]
  },
  {
   "cell_type": "code",
   "execution_count": null,
   "metadata": {
    "colab": {
     "base_uri": "https://localhost:8080/",
     "height": 36
    },
    "id": "k61xf5Y-2jWE",
    "outputId": "e0d3d801-7065-4f0d-b088-d670369d0491"
   },
   "outputs": [
    {
     "data": {
      "text/plain": [
       "22.081044103465974"
      ]
     },
     "execution_count": 27,
     "metadata": {
      "tags": []
     },
     "output_type": "execute_result"
    }
   ],
   "source": [
    "polarity"
   ]
  },
  {
   "cell_type": "code",
   "execution_count": null,
   "metadata": {
    "id": "NC_7BAwR2jb1"
   },
   "outputs": [],
   "source": [
    "# Define a function to calculate the percentage\n",
    "def percentage(part, whole):\n",
    "    return 100 * float(part)/float(whole)"
   ]
  },
  {
   "cell_type": "code",
   "execution_count": null,
   "metadata": {
    "id": "e7pHGyMz4C1_"
   },
   "outputs": [],
   "source": [
    "positive = percentage(positive, no_of_tweets)\n",
    "negative = percentage(negative, no_of_tweets)\n",
    "neutral  = percentage(neutral, no_of_tweets)\n",
    "polarity  = percentage(polarity, no_of_tweets)"
   ]
  },
  {
   "cell_type": "code",
   "execution_count": null,
   "metadata": {
    "id": "Ox1fFV3q4JVt"
   },
   "outputs": [],
   "source": [
    "positive = format(positive, '.2f')\n",
    "negative = format(negative, '.2f')\n",
    "neutral = format(neutral, '.2f')"
   ]
  },
  {
   "cell_type": "code",
   "execution_count": null,
   "metadata": {
    "colab": {
     "base_uri": "https://localhost:8080/",
     "height": 36
    },
    "id": "CLQIh0-R4MBE",
    "outputId": "e69605ec-d733-4d1a-ec9a-0565b0298a26"
   },
   "outputs": [
    {
     "data": {
      "text/plain": [
       "'24.70'"
      ]
     },
     "execution_count": 32,
     "metadata": {
      "tags": []
     },
     "output_type": "execute_result"
    }
   ],
   "source": [
    "positive"
   ]
  },
  {
   "cell_type": "code",
   "execution_count": null,
   "metadata": {
    "colab": {
     "base_uri": "https://localhost:8080/",
     "height": 55
    },
    "id": "LubPRBfL4MIN",
    "outputId": "7e1420c1-03fc-461e-d483-7312a0944765"
   },
   "outputs": [
    {
     "name": "stdout",
     "output_type": "stream",
     "text": [
      "Reaction of the people on Money Heist By analyzing 1000 Tweets \n",
      "is 'Positive'\n"
     ]
    }
   ],
   "source": [
    "print(\"Reaction of the people on \" + search_term + \n",
    "      \" By analyzing \" + str(no_of_tweets) + \" Tweets \")\n",
    "\n",
    "if (polarity == 0):\n",
    "    print(\" is 'Neutral'\")\n",
    "    \n",
    "elif (polarity < 0.00):\n",
    "    print(\"is 'Negative'\")\n",
    "    \n",
    "elif (polarity > 0.00):\n",
    "    print(\"is 'Positive'\")"
   ]
  },
  {
   "cell_type": "markdown",
   "metadata": {
    "id": "n-ZxAbu7rChu"
   },
   "source": [
    "## 5) Getting the result of analysis"
   ]
  },
  {
   "cell_type": "code",
   "execution_count": null,
   "metadata": {
    "colab": {
     "base_uri": "https://localhost:8080/",
     "height": 297
    },
    "id": "MfhSZewGxpky",
    "outputId": "0a040122-beb0-4c3f-b4bf-d4fc1d5fb103"
   },
   "outputs": [
    {
     "data": {
      "image/png": "[encoded data removed]",
      "text/plain": [
       "<Figure size 432x288 with 1 Axes>"
      ]
     },
     "metadata": {
      "tags": []
     },
     "output_type": "display_data"
    }
   ],
   "source": [
    "labels = ['Positive ['+str(positive)+'%]', \n",
    "          'Neutral ['+str(neutral)+'%]', \n",
    "          'Negative ['+str(negative)+'%]']\n",
    "\n",
    "sizes = [positive, neutral, negative]\n",
    "colors = ['yellowgreen', 'gold', 'red']\n",
    "\n",
    "patches, texts = plt.pie(sizes, colors = colors, startangle = 90)\n",
    "plt.legend(patches, labels, loc = \"best\")\n",
    "plt.title('Reaction of the people on '\n",
    "          + search_term +' by analyzing '\n",
    "          + str(no_of_tweets) +' Tweets is:')\n",
    "plt.axis('equal')\n",
    "plt.tight_layout()\n",
    "plt.show()"
   ]
  }
 ],
 "metadata": {
  "colab": {
   "name": "Twitter Sentiment Analysis.ipynb",
   "provenance": []
  },
  "kernelspec": {
   "display_name": "Python 3",
   "language": "python",
   "name": "python3"
  },
  "language_info": {
   "codemirror_mode": {
    "name": "ipython",
    "version": 3
   },
   "file_extension": ".py",
   "mimetype": "text/x-python",
   "name": "python",
   "nbconvert_exporter": "python",
   "pygments_lexer": "ipython3",
   "version": "3.8.5"
  },
  "toc": {
   "base_numbering": 1,
   "nav_menu": {},
   "number_sections": true,
   "sideBar": true,
   "skip_h1_title": false,
   "title_cell": "Table of Contents",
   "title_sidebar": "Contents",
   "toc_cell": false,
   "toc_position": {},
   "toc_section_display": true,
   "toc_window_display": false
  }
 },
 "nbformat": 4,
 "nbformat_minor": 1
}
