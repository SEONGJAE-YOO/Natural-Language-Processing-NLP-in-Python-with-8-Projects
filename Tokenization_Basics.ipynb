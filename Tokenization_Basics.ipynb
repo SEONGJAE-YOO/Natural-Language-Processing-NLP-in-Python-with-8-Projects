{
 "cells": [
  {
   "cell_type": "markdown",
   "metadata": {
    "id": "F90EfebNk8dZ"
   },
   "source": [
    "## 1) Tokenization Basics"
   ]
  },
  {
   "cell_type": "code",
   "execution_count": 1,
   "metadata": {
    "id": "YnhhBMmdk9UO"
   },
   "outputs": [],
   "source": [
    "s1 = 'Apple is looking at buying U.K. startup for $1 billion !'\n",
    "s2 = 'Hello all, We are here to help you! email support@udemy.com or visit us at http://www.udemy.com!'\n",
    "s3 = '10km cab ride almost costs $20 in NYC'\n",
    "s4 = \"Let's watch a movie together.\""
   ]
  },
  {
   "cell_type": "markdown",
   "metadata": {},
   "source": [
    "# spacy\n",
    "\n",
    "spaCy는 파이썬의 자연어처리를 위한 오픈 소스 기반 라이브러리다.\n",
    "\n",
    "spaCy에서 지원하는 기능들이다. Tokenization과 품사 태깅, 개체 인식 등 기본적인 전처리 기능을 지원하고 있다.\n",
    "Linguistic Features\n",
    "Part-of-speech tagging\n",
    "spacy에서 문장을 tokenize한 뒤, token객체의 유용한 메서드들을 사용할 수 있다.\n",
    "\n",
    "import spacy\n",
    "\n",
    "(pip install spacy로 설치)\n",
    "\n",
    "nlp = spacy.load('en_core_web_sm')\n",
    "\n",
    "doc = nlp(u'Apple is looking at buying U.K. startup for $1 billion')\n",
    "\n",
    "for token in doc:\n",
    "\n",
    " print(token.text, token.lemma_, token.pos_, token.tag_, token.dep_, token.shape_, token.is_alpha, token.is_stop)\n",
    "    \n",
    "- 각 메서드들의 기능은 다음을 의미한다.\n",
    "\n",
    "Text: The original word text.\n",
    "\n",
    "Lemma: The base form of the word.\n",
    "\n",
    "POS: The simple part-of-speech tag.\n",
    "\n",
    "Tag: The detailed part-of-speech tag.\n",
    "\n",
    "Dep: Syntactic dependency, i.e. the relation between tokens.\n",
    "\n",
    "Shape: The word shape — capitalization, punctuation, digits.\n",
    "\n",
    "is alpha: Is the token an alpha character?\n",
    "\n",
    "is stop: Is the token part of a stop list, i.e. the most common words of the language?"
   ]
  },
  {
   "cell_type": "code",
   "execution_count": 2,
   "metadata": {
    "colab": {
     "base_uri": "https://localhost:8080/",
     "height": 357
    },
    "id": "KWEtX3Ekl-gg",
    "outputId": "8b06f441-fcff-4e3b-8462-9b85c2069376"
   },
   "outputs": [],
   "source": [
    "# !pip install spacy"
   ]
  },
  {
   "cell_type": "code",
   "execution_count": 3,
   "metadata": {},
   "outputs": [],
   "source": [
    "# #https://spacy.io/models  참고\n",
    "# ! python -m spacy download en_core_web_sm\n",
    "# ! python -m spacy download en_core_web_md"
   ]
  },
  {
   "cell_type": "code",
   "execution_count": 4,
   "metadata": {
    "id": "PEnsIVEqmHvB"
   },
   "outputs": [],
   "source": [
    "import spacy\n",
    "\n",
    "nlp = spacy.load(name = 'en_core_web_sm')"
   ]
  },
  {
   "cell_type": "markdown",
   "metadata": {},
   "source": [
    "# en_core_web_sm \n",
    "\n",
    "English pipeline optimized for CPU. Components: tok2vec, tagger, parser, senter, ner, attribute_ruler, lemmatizer.\n",
    "\n",
    "SIZE\n",
    "12 MB\n",
    "\n",
    "# en_core_web_md \n",
    "\n",
    "English pipeline optimized for CPU. Components: tok2vec, tagger, parser, senter, ner, attribute_ruler, lemmatizer.\n",
    "\n",
    "SIZE\n",
    "43 MB\n",
    "\n",
    "\n"
   ]
  },
  {
   "cell_type": "code",
   "execution_count": 5,
   "metadata": {
    "colab": {
     "base_uri": "https://localhost:8080/",
     "height": 306
    },
    "id": "yhDJmzQZnU3i",
    "outputId": "e7265854-c18f-4bd6-a93a-13454ea40911"
   },
   "outputs": [],
   "source": [
    "nlp_1 = spacy.load(name = 'en_core_web_md')"
   ]
  },
  {
   "cell_type": "code",
   "execution_count": 6,
   "metadata": {
    "id": "u__quO5dnrl2"
   },
   "outputs": [],
   "source": [
    "import en_core_web_md"
   ]
  },
  {
   "cell_type": "code",
   "execution_count": 7,
   "metadata": {
    "id": "uIpWcykSoAjx"
   },
   "outputs": [],
   "source": [
    "nlp_1 = en_core_web_md.load()"
   ]
  },
  {
   "cell_type": "code",
   "execution_count": 8,
   "metadata": {
    "id": "kEfsvpLfoiWR"
   },
   "outputs": [],
   "source": [
    "doc1 = nlp(s1)"
   ]
  },
  {
   "cell_type": "code",
   "execution_count": 9,
   "metadata": {
    "colab": {
     "base_uri": "https://localhost:8080/"
    },
    "id": "MAaRj01dowPx",
    "outputId": "8e2d3ecc-5e09-4f38-d04a-3b3888cead10"
   },
   "outputs": [
    {
     "name": "stdout",
     "output_type": "stream",
     "text": [
      "Apple is looking at buying U.K. startup for $1 billion !\n",
      "Apple\n",
      "is\n",
      "looking\n",
      "at\n",
      "buying\n",
      "U.K.\n",
      "startup\n",
      "for\n",
      "$\n",
      "1\n",
      "billion\n",
      "!\n"
     ]
    }
   ],
   "source": [
    "print(s1)\n",
    "for token in doc1:\n",
    "  print(token)"
   ]
  },
  {
   "cell_type": "code",
   "execution_count": 10,
   "metadata": {
    "colab": {
     "base_uri": "https://localhost:8080/",
     "height": 340
    },
    "id": "lt0eW9VoowUA",
    "outputId": "490f3874-fa59-4064-bc0c-ea371f75d6e0"
   },
   "outputs": [
    {
     "name": "stdout",
     "output_type": "stream",
     "text": [
      "Hello all, We are here to help you! email support@udemy.com or visit us at http://www.udemy.com!\n",
      "Hello\n",
      "all\n",
      ",\n",
      "We\n",
      "are\n",
      "here\n",
      "to\n",
      "help\n",
      "you\n",
      "!\n",
      "email\n",
      "support@udemy.com\n",
      "or\n",
      "visit\n",
      "us\n",
      "at\n",
      "http://www.udemy.com\n",
      "!\n"
     ]
    }
   ],
   "source": [
    "doc2 = nlp(s2)\n",
    "print(s2)\n",
    "for token in doc2:\n",
    "  print(token)"
   ]
  },
  {
   "cell_type": "code",
   "execution_count": 11,
   "metadata": {
    "colab": {
     "base_uri": "https://localhost:8080/",
     "height": 204
    },
    "id": "YnX58gjUowYi",
    "outputId": "81a96ba4-ebd0-4398-8327-f0ee64f38148"
   },
   "outputs": [
    {
     "name": "stdout",
     "output_type": "stream",
     "text": [
      "10km cab ride almost costs $20 in NYC\n",
      "10\n",
      "km\n",
      "cab\n",
      "ride\n",
      "almost\n",
      "costs\n",
      "$\n",
      "20\n",
      "in\n",
      "NYC\n"
     ]
    }
   ],
   "source": [
    "doc3 = nlp(s3)\n",
    "print(s3)\n",
    "for token in doc3:\n",
    "  print(token)"
   ]
  },
  {
   "cell_type": "code",
   "execution_count": 12,
   "metadata": {
    "colab": {
     "base_uri": "https://localhost:8080/",
     "height": 153
    },
    "id": "x3VUnAtOowcI",
    "outputId": "3ce110f7-1ace-4a79-b12e-c3a0a72ff6ae"
   },
   "outputs": [
    {
     "name": "stdout",
     "output_type": "stream",
     "text": [
      "Let's watch a movie together.\n",
      "Let\n",
      "'s\n",
      "watch\n",
      "a\n",
      "movie\n",
      "together\n",
      ".\n"
     ]
    }
   ],
   "source": [
    "doc4 = nlp(s4)\n",
    "print(s4)\n",
    "for token in doc4:\n",
    "  print(token)"
   ]
  },
  {
   "cell_type": "markdown",
   "metadata": {},
   "source": [
    "# https://spacy.io/api/tokenizer#_title 참고\n",
    "# Tokenizer\n",
    "\n",
    "간단하게 말하면 Tokenization이란 Text를 여러개의 Token으로 나누는 것을 말합니다.\n",
    " \n",
    "보통 공백, 구두점, 특수문자 등으로 이를 나누는데요. 그 방법에 따라 다양한 Tokenizer가 있습니다.\n",
    " \n",
    "\n"
   ]
  },
  {
   "cell_type": "code",
   "execution_count": 13,
   "metadata": {
    "colab": {
     "base_uri": "https://localhost:8080/",
     "height": 34
    },
    "id": "TTrjSjUhowgC",
    "outputId": "463b8886-4c73-4b73-bf55-aebc7f1e44be"
   },
   "outputs": [
    {
     "data": {
      "text/plain": [
       "spacy.tokens.doc.Doc"
      ]
     },
     "execution_count": 13,
     "metadata": {},
     "output_type": "execute_result"
    }
   ],
   "source": [
    "type(doc4) #A Doc is a sequence of Token"
   ]
  },
  {
   "cell_type": "code",
   "execution_count": 14,
   "metadata": {
    "colab": {
     "base_uri": "https://localhost:8080/",
     "height": 34
    },
    "id": "54fQnfCsowlh",
    "outputId": "56a7918c-9e09-455d-b49d-8d1568fa27e0"
   },
   "outputs": [
    {
     "data": {
      "text/plain": [
       "7"
      ]
     },
     "execution_count": 14,
     "metadata": {},
     "output_type": "execute_result"
    }
   ],
   "source": [
    "len(doc4) # token 7개로 나누었음"
   ]
  },
  {
   "cell_type": "code",
   "execution_count": 15,
   "metadata": {
    "colab": {
     "base_uri": "https://localhost:8080/",
     "height": 34
    },
    "id": "lTi9E9Xrqx3D",
    "outputId": "a56cc554-cb70-4f3e-9e87-387c8356448c"
   },
   "outputs": [
    {
     "data": {
      "text/plain": [
       "Let"
      ]
     },
     "execution_count": 15,
     "metadata": {},
     "output_type": "execute_result"
    }
   ],
   "source": [
    "doc4[0] #token 첫번째 반환"
   ]
  },
  {
   "cell_type": "code",
   "execution_count": 16,
   "metadata": {
    "colab": {
     "base_uri": "https://localhost:8080/",
     "height": 34
    },
    "id": "S2EvheKZq6BI",
    "outputId": "6aad0b32-c855-45ee-a775-b4bd265df236"
   },
   "outputs": [
    {
     "data": {
      "text/plain": [
       "watch a movie"
      ]
     },
     "execution_count": 16,
     "metadata": {},
     "output_type": "execute_result"
    }
   ],
   "source": [
    "doc4[2:5]"
   ]
  },
  {
   "cell_type": "code",
   "execution_count": 17,
   "metadata": {
    "colab": {
     "base_uri": "https://localhost:8080/",
     "height": 34
    },
    "id": "c2tdLPmoq-lj",
    "outputId": "dc56952a-67a4-4695-e3b1-fc12d74ef90e"
   },
   "outputs": [
    {
     "data": {
      "text/plain": [
       "."
      ]
     },
     "execution_count": 17,
     "metadata": {},
     "output_type": "execute_result"
    }
   ],
   "source": [
    "doc4[-1]"
   ]
  },
  {
   "cell_type": "code",
   "execution_count": 18,
   "metadata": {
    "colab": {
     "base_uri": "https://localhost:8080/",
     "height": 163
    },
    "id": "M69W-wumrFaH",
    "outputId": "96bab298-bc4a-4807-cbc9-30812fa752f4"
   },
   "outputs": [
    {
     "ename": "TypeError",
     "evalue": "'spacy.tokens.doc.Doc' object does not support item assignment",
     "output_type": "error",
     "traceback": [
      "\u001b[1;31m---------------------------------------------------------------------------\u001b[0m",
      "\u001b[1;31mTypeError\u001b[0m                                 Traceback (most recent call last)",
      "\u001b[1;32m<ipython-input-18-c77d23fee774>\u001b[0m in \u001b[0;36m<module>\u001b[1;34m\u001b[0m\n\u001b[1;32m----> 1\u001b[1;33m \u001b[0mdoc4\u001b[0m\u001b[1;33m[\u001b[0m\u001b[1;36m0\u001b[0m\u001b[1;33m]\u001b[0m \u001b[1;33m=\u001b[0m\u001b[1;34m'New'\u001b[0m\u001b[1;33m\u001b[0m\u001b[1;33m\u001b[0m\u001b[0m\n\u001b[0m",
      "\u001b[1;31mTypeError\u001b[0m: 'spacy.tokens.doc.Doc' object does not support item assignment"
     ]
    }
   ],
   "source": [
    "doc4[0] ='New' #오류 처리"
   ]
  }
 ],
 "metadata": {
  "colab": {
   "name": "Tokenization Basics.ipynb",
   "provenance": []
  },
  "kernelspec": {
   "display_name": "Python 3",
   "language": "python",
   "name": "python3"
  },
  "language_info": {
   "codemirror_mode": {
    "name": "ipython",
    "version": 3
   },
   "file_extension": ".py",
   "mimetype": "text/x-python",
   "name": "python",
   "nbconvert_exporter": "python",
   "pygments_lexer": "ipython3",
   "version": "3.8.5"
  },
  "toc": {
   "base_numbering": 1,
   "nav_menu": {},
   "number_sections": true,
   "sideBar": true,
   "skip_h1_title": false,
   "title_cell": "Table of Contents",
   "title_sidebar": "Contents",
   "toc_cell": false,
   "toc_position": {},
   "toc_section_display": true,
   "toc_window_display": false
  }
 },
 "nbformat": 4,
 "nbformat_minor": 1
}
